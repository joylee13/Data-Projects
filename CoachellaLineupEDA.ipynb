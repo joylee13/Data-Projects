{
 "cells": [
  {
   "cell_type": "markdown",
   "id": "b5082255",
   "metadata": {},
   "source": [
    "## Coachella 2024 Lineup, Exploratory Data Analysis\n",
    "This dataset was created using information from Spotify's Web API. The code I used to create the dataset can be found [here](https://github.com/joylee13/Data-Projects/blob/main/main.py)!"
   ]
  },
  {
   "cell_type": "code",
   "execution_count": 407,
   "id": "9661f6e2",
   "metadata": {},
   "outputs": [],
   "source": [
    "# import libraries\n",
    "import pandas as pd\n",
    "import numpy as np\n",
    "import plotly.express as px"
   ]
  },
  {
   "cell_type": "code",
   "execution_count": 425,
   "id": "c605cbb5",
   "metadata": {},
   "outputs": [
    {
     "data": {
      "text/html": [
       "<div>\n",
       "<style scoped>\n",
       "    .dataframe tbody tr th:only-of-type {\n",
       "        vertical-align: middle;\n",
       "    }\n",
       "\n",
       "    .dataframe tbody tr th {\n",
       "        vertical-align: top;\n",
       "    }\n",
       "\n",
       "    .dataframe thead th {\n",
       "        text-align: right;\n",
       "    }\n",
       "</style>\n",
       "<table border=\"1\" class=\"dataframe\">\n",
       "  <thead>\n",
       "    <tr style=\"text-align: right;\">\n",
       "      <th></th>\n",
       "      <th>name</th>\n",
       "      <th>id</th>\n",
       "      <th>genres</th>\n",
       "      <th>popularity</th>\n",
       "      <th>followers</th>\n",
       "      <th>external_urls</th>\n",
       "      <th>href</th>\n",
       "      <th>images</th>\n",
       "      <th>type</th>\n",
       "      <th>uri</th>\n",
       "    </tr>\n",
       "  </thead>\n",
       "  <tbody>\n",
       "    <tr>\n",
       "      <th>0</th>\n",
       "      <td>Adam Ten</td>\n",
       "      <td>05tmGPn4fFdVpnsMt0YW5S</td>\n",
       "      <td>['israeli techno']</td>\n",
       "      <td>43</td>\n",
       "      <td>{'href': None, 'total': 16501}</td>\n",
       "      <td>{'spotify': 'https://open.spotify.com/artist/0...</td>\n",
       "      <td>https://api.spotify.com/v1/artists/05tmGPn4fFd...</td>\n",
       "      <td>[{'height': 640, 'url': 'https://i.scdn.co/ima...</td>\n",
       "      <td>artist</td>\n",
       "      <td>spotify:artist:05tmGPn4fFdVpnsMt0YW5S</td>\n",
       "    </tr>\n",
       "    <tr>\n",
       "      <th>1</th>\n",
       "      <td>The Adicts</td>\n",
       "      <td>5f5B8Zd0xuvmcDin3oK76F</td>\n",
       "      <td>['hardcore punk', 'oi', 'psychobilly', 'punk',...</td>\n",
       "      <td>39</td>\n",
       "      <td>{'href': None, 'total': 167548}</td>\n",
       "      <td>{'spotify': 'https://open.spotify.com/artist/5...</td>\n",
       "      <td>https://api.spotify.com/v1/artists/5f5B8Zd0xuv...</td>\n",
       "      <td>[{'height': 640, 'url': 'https://i.scdn.co/ima...</td>\n",
       "      <td>artist</td>\n",
       "      <td>spotify:artist:5f5B8Zd0xuvmcDin3oK76F</td>\n",
       "    </tr>\n",
       "    <tr>\n",
       "      <th>2</th>\n",
       "      <td>Adriatique</td>\n",
       "      <td>02DWGcShQivFepRvGJ7xhB</td>\n",
       "      <td>['deep disco house', 'melodic techno', 'swiss ...</td>\n",
       "      <td>57</td>\n",
       "      <td>{'href': None, 'total': 246023}</td>\n",
       "      <td>{'spotify': 'https://open.spotify.com/artist/0...</td>\n",
       "      <td>https://api.spotify.com/v1/artists/02DWGcShQiv...</td>\n",
       "      <td>[{'height': 640, 'url': 'https://i.scdn.co/ima...</td>\n",
       "      <td>artist</td>\n",
       "      <td>spotify:artist:02DWGcShQivFepRvGJ7xhB</td>\n",
       "    </tr>\n",
       "    <tr>\n",
       "      <th>3</th>\n",
       "      <td>Marcel Dettmann</td>\n",
       "      <td>1sxHp39RqBEE01pgVqsdyP</td>\n",
       "      <td>['microhouse', 'minimal techno', 'techno']</td>\n",
       "      <td>31</td>\n",
       "      <td>{'href': None, 'total': 73747}</td>\n",
       "      <td>{'spotify': 'https://open.spotify.com/artist/1...</td>\n",
       "      <td>https://api.spotify.com/v1/artists/1sxHp39RqBE...</td>\n",
       "      <td>[{'height': 640, 'url': 'https://i.scdn.co/ima...</td>\n",
       "      <td>artist</td>\n",
       "      <td>spotify:artist:1sxHp39RqBEE01pgVqsdyP</td>\n",
       "    </tr>\n",
       "    <tr>\n",
       "      <th>4</th>\n",
       "      <td>ANOTR</td>\n",
       "      <td>4p5WgeiPSPpqPDs7T6OkWf</td>\n",
       "      <td>['dutch tech house']</td>\n",
       "      <td>60</td>\n",
       "      <td>{'href': None, 'total': 81679}</td>\n",
       "      <td>{'spotify': 'https://open.spotify.com/artist/4...</td>\n",
       "      <td>https://api.spotify.com/v1/artists/4p5WgeiPSPp...</td>\n",
       "      <td>[{'height': 640, 'url': 'https://i.scdn.co/ima...</td>\n",
       "      <td>artist</td>\n",
       "      <td>spotify:artist:4p5WgeiPSPpqPDs7T6OkWf</td>\n",
       "    </tr>\n",
       "  </tbody>\n",
       "</table>\n",
       "</div>"
      ],
      "text/plain": [
       "              name                      id  \\\n",
       "0         Adam Ten  05tmGPn4fFdVpnsMt0YW5S   \n",
       "1       The Adicts  5f5B8Zd0xuvmcDin3oK76F   \n",
       "2       Adriatique  02DWGcShQivFepRvGJ7xhB   \n",
       "3  Marcel Dettmann  1sxHp39RqBEE01pgVqsdyP   \n",
       "4            ANOTR  4p5WgeiPSPpqPDs7T6OkWf   \n",
       "\n",
       "                                              genres  popularity  \\\n",
       "0                                 ['israeli techno']          43   \n",
       "1  ['hardcore punk', 'oi', 'psychobilly', 'punk',...          39   \n",
       "2  ['deep disco house', 'melodic techno', 'swiss ...          57   \n",
       "3         ['microhouse', 'minimal techno', 'techno']          31   \n",
       "4                               ['dutch tech house']          60   \n",
       "\n",
       "                         followers  \\\n",
       "0   {'href': None, 'total': 16501}   \n",
       "1  {'href': None, 'total': 167548}   \n",
       "2  {'href': None, 'total': 246023}   \n",
       "3   {'href': None, 'total': 73747}   \n",
       "4   {'href': None, 'total': 81679}   \n",
       "\n",
       "                                       external_urls  \\\n",
       "0  {'spotify': 'https://open.spotify.com/artist/0...   \n",
       "1  {'spotify': 'https://open.spotify.com/artist/5...   \n",
       "2  {'spotify': 'https://open.spotify.com/artist/0...   \n",
       "3  {'spotify': 'https://open.spotify.com/artist/1...   \n",
       "4  {'spotify': 'https://open.spotify.com/artist/4...   \n",
       "\n",
       "                                                href  \\\n",
       "0  https://api.spotify.com/v1/artists/05tmGPn4fFd...   \n",
       "1  https://api.spotify.com/v1/artists/5f5B8Zd0xuv...   \n",
       "2  https://api.spotify.com/v1/artists/02DWGcShQiv...   \n",
       "3  https://api.spotify.com/v1/artists/1sxHp39RqBE...   \n",
       "4  https://api.spotify.com/v1/artists/4p5WgeiPSPp...   \n",
       "\n",
       "                                              images    type  \\\n",
       "0  [{'height': 640, 'url': 'https://i.scdn.co/ima...  artist   \n",
       "1  [{'height': 640, 'url': 'https://i.scdn.co/ima...  artist   \n",
       "2  [{'height': 640, 'url': 'https://i.scdn.co/ima...  artist   \n",
       "3  [{'height': 640, 'url': 'https://i.scdn.co/ima...  artist   \n",
       "4  [{'height': 640, 'url': 'https://i.scdn.co/ima...  artist   \n",
       "\n",
       "                                     uri  \n",
       "0  spotify:artist:05tmGPn4fFdVpnsMt0YW5S  \n",
       "1  spotify:artist:5f5B8Zd0xuvmcDin3oK76F  \n",
       "2  spotify:artist:02DWGcShQivFepRvGJ7xhB  \n",
       "3  spotify:artist:1sxHp39RqBEE01pgVqsdyP  \n",
       "4  spotify:artist:4p5WgeiPSPpqPDs7T6OkWf  "
      ]
     },
     "execution_count": 425,
     "metadata": {},
     "output_type": "execute_result"
    }
   ],
   "source": [
    "# read csv\n",
    "df = pd.read_csv(\"lineup.csv\")\n",
    "df.head()"
   ]
  },
  {
   "cell_type": "markdown",
   "id": "6107f991",
   "metadata": {},
   "source": [
    "### Data Cleaning"
   ]
  },
  {
   "cell_type": "code",
   "execution_count": 426,
   "id": "609280a2",
   "metadata": {},
   "outputs": [
    {
     "data": {
      "text/plain": [
       "(146, 10)"
      ]
     },
     "execution_count": 426,
     "metadata": {},
     "output_type": "execute_result"
    }
   ],
   "source": [
    "df.shape  # dataframe has 146 rows and 10 columns"
   ]
  },
  {
   "cell_type": "code",
   "execution_count": 427,
   "id": "2184022b",
   "metadata": {},
   "outputs": [
    {
     "data": {
      "text/plain": [
       "1"
      ]
     },
     "execution_count": 427,
     "metadata": {},
     "output_type": "execute_result"
    }
   ],
   "source": [
    "df.duplicated().sum() # count duplicate rows"
   ]
  },
  {
   "cell_type": "code",
   "execution_count": 428,
   "id": "cc9495a4",
   "metadata": {
    "scrolled": true
   },
   "outputs": [
    {
     "data": {
      "text/html": [
       "<div>\n",
       "<style scoped>\n",
       "    .dataframe tbody tr th:only-of-type {\n",
       "        vertical-align: middle;\n",
       "    }\n",
       "\n",
       "    .dataframe tbody tr th {\n",
       "        vertical-align: top;\n",
       "    }\n",
       "\n",
       "    .dataframe thead th {\n",
       "        text-align: right;\n",
       "    }\n",
       "</style>\n",
       "<table border=\"1\" class=\"dataframe\">\n",
       "  <thead>\n",
       "    <tr style=\"text-align: right;\">\n",
       "      <th></th>\n",
       "      <th>name</th>\n",
       "      <th>id</th>\n",
       "      <th>genres</th>\n",
       "      <th>popularity</th>\n",
       "      <th>followers</th>\n",
       "      <th>external_urls</th>\n",
       "      <th>href</th>\n",
       "      <th>images</th>\n",
       "      <th>type</th>\n",
       "      <th>uri</th>\n",
       "    </tr>\n",
       "  </thead>\n",
       "  <tbody>\n",
       "    <tr>\n",
       "      <th>49</th>\n",
       "      <td>Peggy Gou</td>\n",
       "      <td>2mLA48B366zkELXYx7hcDN</td>\n",
       "      <td>['electra', 'float house']</td>\n",
       "      <td>70</td>\n",
       "      <td>{'href': None, 'total': 855639}</td>\n",
       "      <td>{'spotify': 'https://open.spotify.com/artist/2...</td>\n",
       "      <td>https://api.spotify.com/v1/artists/2mLA48B366z...</td>\n",
       "      <td>[{'height': 640, 'url': 'https://i.scdn.co/ima...</td>\n",
       "      <td>artist</td>\n",
       "      <td>spotify:artist:2mLA48B366zkELXYx7hcDN</td>\n",
       "    </tr>\n",
       "    <tr>\n",
       "      <th>109</th>\n",
       "      <td>Peggy Gou</td>\n",
       "      <td>2mLA48B366zkELXYx7hcDN</td>\n",
       "      <td>['electra', 'float house']</td>\n",
       "      <td>70</td>\n",
       "      <td>{'href': None, 'total': 855639}</td>\n",
       "      <td>{'spotify': 'https://open.spotify.com/artist/2...</td>\n",
       "      <td>https://api.spotify.com/v1/artists/2mLA48B366z...</td>\n",
       "      <td>[{'height': 640, 'url': 'https://i.scdn.co/ima...</td>\n",
       "      <td>artist</td>\n",
       "      <td>spotify:artist:2mLA48B366zkELXYx7hcDN</td>\n",
       "    </tr>\n",
       "  </tbody>\n",
       "</table>\n",
       "</div>"
      ],
      "text/plain": [
       "          name                      id                      genres  \\\n",
       "49   Peggy Gou  2mLA48B366zkELXYx7hcDN  ['electra', 'float house']   \n",
       "109  Peggy Gou  2mLA48B366zkELXYx7hcDN  ['electra', 'float house']   \n",
       "\n",
       "     popularity                        followers  \\\n",
       "49           70  {'href': None, 'total': 855639}   \n",
       "109          70  {'href': None, 'total': 855639}   \n",
       "\n",
       "                                         external_urls  \\\n",
       "49   {'spotify': 'https://open.spotify.com/artist/2...   \n",
       "109  {'spotify': 'https://open.spotify.com/artist/2...   \n",
       "\n",
       "                                                  href  \\\n",
       "49   https://api.spotify.com/v1/artists/2mLA48B366z...   \n",
       "109  https://api.spotify.com/v1/artists/2mLA48B366z...   \n",
       "\n",
       "                                                images    type  \\\n",
       "49   [{'height': 640, 'url': 'https://i.scdn.co/ima...  artist   \n",
       "109  [{'height': 640, 'url': 'https://i.scdn.co/ima...  artist   \n",
       "\n",
       "                                       uri  \n",
       "49   spotify:artist:2mLA48B366zkELXYx7hcDN  \n",
       "109  spotify:artist:2mLA48B366zkELXYx7hcDN  "
      ]
     },
     "execution_count": 428,
     "metadata": {},
     "output_type": "execute_result"
    }
   ],
   "source": [
    "df[df.duplicated('name', keep=False) == True]"
   ]
  },
  {
   "cell_type": "code",
   "execution_count": 429,
   "id": "d7035644",
   "metadata": {},
   "outputs": [],
   "source": [
    "df.drop_duplicates(inplace=True) # drop duplicates\n",
    "df = df.reset_index(drop=True)"
   ]
  },
  {
   "cell_type": "code",
   "execution_count": 430,
   "id": "313ab69e",
   "metadata": {},
   "outputs": [
    {
     "data": {
      "text/plain": [
       "(145, 10)"
      ]
     },
     "execution_count": 430,
     "metadata": {},
     "output_type": "execute_result"
    }
   ],
   "source": [
    "df.shape # confirm dropping duplicate rows worked"
   ]
  },
  {
   "cell_type": "code",
   "execution_count": 431,
   "id": "074b21e4",
   "metadata": {},
   "outputs": [
    {
     "name": "stdout",
     "output_type": "stream",
     "text": [
      "<class 'pandas.core.frame.DataFrame'>\n",
      "RangeIndex: 145 entries, 0 to 144\n",
      "Data columns (total 10 columns):\n",
      " #   Column         Non-Null Count  Dtype \n",
      "---  ------         --------------  ----- \n",
      " 0   name           145 non-null    object\n",
      " 1   id             145 non-null    object\n",
      " 2   genres         145 non-null    object\n",
      " 3   popularity     145 non-null    int64 \n",
      " 4   followers      145 non-null    object\n",
      " 5   external_urls  145 non-null    object\n",
      " 6   href           145 non-null    object\n",
      " 7   images         145 non-null    object\n",
      " 8   type           145 non-null    object\n",
      " 9   uri            145 non-null    object\n",
      "dtypes: int64(1), object(9)\n",
      "memory usage: 11.5+ KB\n"
     ]
    }
   ],
   "source": [
    "df.info() # summary information"
   ]
  },
  {
   "cell_type": "code",
   "execution_count": 432,
   "id": "65bc641d",
   "metadata": {},
   "outputs": [
    {
     "data": {
      "text/plain": [
       "Index([], dtype='object')"
      ]
     },
     "execution_count": 432,
     "metadata": {},
     "output_type": "execute_result"
    }
   ],
   "source": [
    "df.columns[np.sum(df.isnull()) != 0] # check if any columns have missing values"
   ]
  },
  {
   "cell_type": "code",
   "execution_count": 433,
   "id": "8acea081",
   "metadata": {},
   "outputs": [],
   "source": [
    "# drop unnecessary columns\n",
    "cols = ['name', 'genres', 'popularity', 'followers']\n",
    "df = df[cols]"
   ]
  },
  {
   "cell_type": "code",
   "execution_count": 434,
   "id": "e7ca8636",
   "metadata": {},
   "outputs": [
    {
     "data": {
      "text/html": [
       "<div>\n",
       "<style scoped>\n",
       "    .dataframe tbody tr th:only-of-type {\n",
       "        vertical-align: middle;\n",
       "    }\n",
       "\n",
       "    .dataframe tbody tr th {\n",
       "        vertical-align: top;\n",
       "    }\n",
       "\n",
       "    .dataframe thead th {\n",
       "        text-align: right;\n",
       "    }\n",
       "</style>\n",
       "<table border=\"1\" class=\"dataframe\">\n",
       "  <thead>\n",
       "    <tr style=\"text-align: right;\">\n",
       "      <th></th>\n",
       "      <th>name</th>\n",
       "      <th>genres</th>\n",
       "      <th>popularity</th>\n",
       "      <th>followers</th>\n",
       "    </tr>\n",
       "  </thead>\n",
       "  <tbody>\n",
       "    <tr>\n",
       "      <th>0</th>\n",
       "      <td>Adam Ten</td>\n",
       "      <td>['israeli techno']</td>\n",
       "      <td>43</td>\n",
       "      <td>{'href': None, 'total': 16501}</td>\n",
       "    </tr>\n",
       "    <tr>\n",
       "      <th>1</th>\n",
       "      <td>The Adicts</td>\n",
       "      <td>['hardcore punk', 'oi', 'psychobilly', 'punk',...</td>\n",
       "      <td>39</td>\n",
       "      <td>{'href': None, 'total': 167548}</td>\n",
       "    </tr>\n",
       "    <tr>\n",
       "      <th>2</th>\n",
       "      <td>Adriatique</td>\n",
       "      <td>['deep disco house', 'melodic techno', 'swiss ...</td>\n",
       "      <td>57</td>\n",
       "      <td>{'href': None, 'total': 246023}</td>\n",
       "    </tr>\n",
       "    <tr>\n",
       "      <th>3</th>\n",
       "      <td>Marcel Dettmann</td>\n",
       "      <td>['microhouse', 'minimal techno', 'techno']</td>\n",
       "      <td>31</td>\n",
       "      <td>{'href': None, 'total': 73747}</td>\n",
       "    </tr>\n",
       "    <tr>\n",
       "      <th>4</th>\n",
       "      <td>ANOTR</td>\n",
       "      <td>['dutch tech house']</td>\n",
       "      <td>60</td>\n",
       "      <td>{'href': None, 'total': 81679}</td>\n",
       "    </tr>\n",
       "  </tbody>\n",
       "</table>\n",
       "</div>"
      ],
      "text/plain": [
       "              name                                             genres  \\\n",
       "0         Adam Ten                                 ['israeli techno']   \n",
       "1       The Adicts  ['hardcore punk', 'oi', 'psychobilly', 'punk',...   \n",
       "2       Adriatique  ['deep disco house', 'melodic techno', 'swiss ...   \n",
       "3  Marcel Dettmann         ['microhouse', 'minimal techno', 'techno']   \n",
       "4            ANOTR                               ['dutch tech house']   \n",
       "\n",
       "   popularity                        followers  \n",
       "0          43   {'href': None, 'total': 16501}  \n",
       "1          39  {'href': None, 'total': 167548}  \n",
       "2          57  {'href': None, 'total': 246023}  \n",
       "3          31   {'href': None, 'total': 73747}  \n",
       "4          60   {'href': None, 'total': 81679}  "
      ]
     },
     "execution_count": 434,
     "metadata": {},
     "output_type": "execute_result"
    }
   ],
   "source": [
    "df.head()"
   ]
  },
  {
   "cell_type": "code",
   "execution_count": null,
   "id": "199faa9e",
   "metadata": {},
   "outputs": [],
   "source": [
    "# format followers column\n",
    "df['followers'] = df['followers'].str.replace('[^0-9]','')\n",
    "df['followers'] = df['followers'].astype(int)"
   ]
  },
  {
   "cell_type": "code",
   "execution_count": 436,
   "id": "14f98a82",
   "metadata": {
    "scrolled": true
   },
   "outputs": [
    {
     "data": {
      "text/html": [
       "<div>\n",
       "<style scoped>\n",
       "    .dataframe tbody tr th:only-of-type {\n",
       "        vertical-align: middle;\n",
       "    }\n",
       "\n",
       "    .dataframe tbody tr th {\n",
       "        vertical-align: top;\n",
       "    }\n",
       "\n",
       "    .dataframe thead th {\n",
       "        text-align: right;\n",
       "    }\n",
       "</style>\n",
       "<table border=\"1\" class=\"dataframe\">\n",
       "  <thead>\n",
       "    <tr style=\"text-align: right;\">\n",
       "      <th></th>\n",
       "      <th>name</th>\n",
       "      <th>genres</th>\n",
       "      <th>popularity</th>\n",
       "      <th>followers</th>\n",
       "    </tr>\n",
       "  </thead>\n",
       "  <tbody>\n",
       "    <tr>\n",
       "      <th>0</th>\n",
       "      <td>Adam Ten</td>\n",
       "      <td>['israeli techno']</td>\n",
       "      <td>43</td>\n",
       "      <td>16501</td>\n",
       "    </tr>\n",
       "    <tr>\n",
       "      <th>1</th>\n",
       "      <td>The Adicts</td>\n",
       "      <td>['hardcore punk', 'oi', 'psychobilly', 'punk',...</td>\n",
       "      <td>39</td>\n",
       "      <td>167548</td>\n",
       "    </tr>\n",
       "    <tr>\n",
       "      <th>2</th>\n",
       "      <td>Adriatique</td>\n",
       "      <td>['deep disco house', 'melodic techno', 'swiss ...</td>\n",
       "      <td>57</td>\n",
       "      <td>246023</td>\n",
       "    </tr>\n",
       "    <tr>\n",
       "      <th>3</th>\n",
       "      <td>Marcel Dettmann</td>\n",
       "      <td>['microhouse', 'minimal techno', 'techno']</td>\n",
       "      <td>31</td>\n",
       "      <td>73747</td>\n",
       "    </tr>\n",
       "    <tr>\n",
       "      <th>4</th>\n",
       "      <td>ANOTR</td>\n",
       "      <td>['dutch tech house']</td>\n",
       "      <td>60</td>\n",
       "      <td>81679</td>\n",
       "    </tr>\n",
       "  </tbody>\n",
       "</table>\n",
       "</div>"
      ],
      "text/plain": [
       "              name                                             genres  \\\n",
       "0         Adam Ten                                 ['israeli techno']   \n",
       "1       The Adicts  ['hardcore punk', 'oi', 'psychobilly', 'punk',...   \n",
       "2       Adriatique  ['deep disco house', 'melodic techno', 'swiss ...   \n",
       "3  Marcel Dettmann         ['microhouse', 'minimal techno', 'techno']   \n",
       "4            ANOTR                               ['dutch tech house']   \n",
       "\n",
       "   popularity  followers  \n",
       "0          43      16501  \n",
       "1          39     167548  \n",
       "2          57     246023  \n",
       "3          31      73747  \n",
       "4          60      81679  "
      ]
     },
     "execution_count": 436,
     "metadata": {},
     "output_type": "execute_result"
    }
   ],
   "source": [
    "df.head()"
   ]
  },
  {
   "cell_type": "code",
   "execution_count": 437,
   "id": "0a22adfd",
   "metadata": {
    "scrolled": true
   },
   "outputs": [],
   "source": [
    "# format genres column\n",
    "df['genres'] = df['genres'].str.strip(\"[]\")\n",
    "df['genres'] = df['genres'].str.replace(\"'\", \"\")\n",
    "df['genres'] = df['genres'].str.split(\", \")"
   ]
  },
  {
   "cell_type": "code",
   "execution_count": 438,
   "id": "b5a5fb98",
   "metadata": {},
   "outputs": [
    {
     "data": {
      "text/html": [
       "<div>\n",
       "<style scoped>\n",
       "    .dataframe tbody tr th:only-of-type {\n",
       "        vertical-align: middle;\n",
       "    }\n",
       "\n",
       "    .dataframe tbody tr th {\n",
       "        vertical-align: top;\n",
       "    }\n",
       "\n",
       "    .dataframe thead th {\n",
       "        text-align: right;\n",
       "    }\n",
       "</style>\n",
       "<table border=\"1\" class=\"dataframe\">\n",
       "  <thead>\n",
       "    <tr style=\"text-align: right;\">\n",
       "      <th></th>\n",
       "      <th>name</th>\n",
       "      <th>genres</th>\n",
       "      <th>popularity</th>\n",
       "      <th>followers</th>\n",
       "    </tr>\n",
       "  </thead>\n",
       "  <tbody>\n",
       "    <tr>\n",
       "      <th>0</th>\n",
       "      <td>Adam Ten</td>\n",
       "      <td>[israeli techno]</td>\n",
       "      <td>43</td>\n",
       "      <td>16501</td>\n",
       "    </tr>\n",
       "    <tr>\n",
       "      <th>1</th>\n",
       "      <td>The Adicts</td>\n",
       "      <td>[hardcore punk, oi, psychobilly, punk, uk82]</td>\n",
       "      <td>39</td>\n",
       "      <td>167548</td>\n",
       "    </tr>\n",
       "    <tr>\n",
       "      <th>2</th>\n",
       "      <td>Adriatique</td>\n",
       "      <td>[deep disco house, melodic techno, swiss house]</td>\n",
       "      <td>57</td>\n",
       "      <td>246023</td>\n",
       "    </tr>\n",
       "    <tr>\n",
       "      <th>3</th>\n",
       "      <td>Marcel Dettmann</td>\n",
       "      <td>[microhouse, minimal techno, techno]</td>\n",
       "      <td>31</td>\n",
       "      <td>73747</td>\n",
       "    </tr>\n",
       "    <tr>\n",
       "      <th>4</th>\n",
       "      <td>ANOTR</td>\n",
       "      <td>[dutch tech house]</td>\n",
       "      <td>60</td>\n",
       "      <td>81679</td>\n",
       "    </tr>\n",
       "  </tbody>\n",
       "</table>\n",
       "</div>"
      ],
      "text/plain": [
       "              name                                           genres  \\\n",
       "0         Adam Ten                                 [israeli techno]   \n",
       "1       The Adicts     [hardcore punk, oi, psychobilly, punk, uk82]   \n",
       "2       Adriatique  [deep disco house, melodic techno, swiss house]   \n",
       "3  Marcel Dettmann             [microhouse, minimal techno, techno]   \n",
       "4            ANOTR                               [dutch tech house]   \n",
       "\n",
       "   popularity  followers  \n",
       "0          43      16501  \n",
       "1          39     167548  \n",
       "2          57     246023  \n",
       "3          31      73747  \n",
       "4          60      81679  "
      ]
     },
     "execution_count": 438,
     "metadata": {},
     "output_type": "execute_result"
    }
   ],
   "source": [
    "df.head()"
   ]
  },
  {
   "cell_type": "markdown",
   "id": "11e5fcc1",
   "metadata": {},
   "source": [
    "### Learning About Genres on the Lineup"
   ]
  },
  {
   "cell_type": "markdown",
   "id": "a51c8dbf",
   "metadata": {},
   "source": [
    "Spotify classifies each artist into one or more genres. An empty list ( [ ] ) implies that artist has not yet been classified."
   ]
  },
  {
   "cell_type": "code",
   "execution_count": 439,
   "id": "37344917",
   "metadata": {},
   "outputs": [],
   "source": [
    "# count unique genres and their frequency\n",
    "genres = np.hstack(df.genres)\n",
    "genre, counts = np.unique(genres, return_counts=True)\n",
    "genre_count = np.asarray((genre, counts)).T"
   ]
  },
  {
   "cell_type": "code",
   "execution_count": 440,
   "id": "22a078ce",
   "metadata": {
    "scrolled": true
   },
   "outputs": [
    {
     "data": {
      "text/plain": [
       "339"
      ]
     },
     "execution_count": 440,
     "metadata": {},
     "output_type": "execute_result"
    }
   ],
   "source": [
    "len(genres) # 339 genres (as classified by spotify) are represented on the lineup"
   ]
  },
  {
   "cell_type": "code",
   "execution_count": 441,
   "id": "12539ac8",
   "metadata": {},
   "outputs": [],
   "source": [
    "# convert array to dict\n",
    "genre_dict = {}\n",
    "for i in range(len(genre_count)):\n",
    "    genre_dict[genre_count[i][0]] = genre_count[i][1]"
   ]
  },
  {
   "cell_type": "code",
   "execution_count": 442,
   "id": "b775a2f1",
   "metadata": {
    "scrolled": true
   },
   "outputs": [
    {
     "data": {
      "text/plain": [
       "[('house', '6'),\n",
       " ('art pop', '5'),\n",
       " ('indie pop', '5'),\n",
       " ('pop', '5'),\n",
       " ('tech house', '5'),\n",
       " ('edm', '4'),\n",
       " ('indie soul', '4'),\n",
       " ('indietronica', '4'),\n",
       " ('pop dance', '4'),\n",
       " ('pov: indie', '4'),\n",
       " ('rap', '4'),\n",
       " ('alternative r&b', '3'),\n",
       " ('crank wave', '3'),\n",
       " ('dance pop', '3'),\n",
       " ('electra', '3')]"
      ]
     },
     "execution_count": 442,
     "metadata": {},
     "output_type": "execute_result"
    }
   ],
   "source": [
    "# find the 15 most represented genres\n",
    "top15 = sorted(genre_dict.items(), key=lambda item: item[1], reverse=True)\n",
    "top15 = top15[:15]\n",
    "top15"
   ]
  },
  {
   "cell_type": "code",
   "execution_count": 443,
   "id": "f51d3306",
   "metadata": {},
   "outputs": [
    {
     "data": {
      "application/vnd.plotly.v1+json": {
       "config": {
        "plotlyServerURL": "https://plot.ly"
       },
       "data": [
        {
         "alignmentgroup": "True",
         "hovertemplate": "Genre=%{x}<br>Count=%{y}<br>color=%{marker.color}<extra></extra>",
         "legendgroup": "",
         "marker": {
          "color": [
           6,
           5,
           5,
           5,
           5,
           4,
           4,
           4,
           4,
           4,
           4,
           3,
           3,
           3,
           3
          ],
          "coloraxis": "coloraxis",
          "pattern": {
           "shape": ""
          }
         },
         "name": "",
         "offsetgroup": "",
         "orientation": "v",
         "showlegend": false,
         "textposition": "auto",
         "type": "bar",
         "x": [
          "house",
          "art pop",
          "indie pop",
          "pop",
          "tech house",
          "edm",
          "indie soul",
          "indietronica",
          "pop dance",
          "pov: indie",
          "rap",
          "alternative r&b",
          "crank wave",
          "dance pop",
          "electra"
         ],
         "xaxis": "x",
         "y": [
          6,
          5,
          5,
          5,
          5,
          4,
          4,
          4,
          4,
          4,
          4,
          3,
          3,
          3,
          3
         ],
         "yaxis": "y"
        }
       ],
       "layout": {
        "barmode": "relative",
        "coloraxis": {
         "colorbar": {
          "title": {
           "text": "color"
          }
         },
         "colorscale": [
          [
           0,
           "#0d0887"
          ],
          [
           0.1111111111111111,
           "#46039f"
          ],
          [
           0.2222222222222222,
           "#7201a8"
          ],
          [
           0.3333333333333333,
           "#9c179e"
          ],
          [
           0.4444444444444444,
           "#bd3786"
          ],
          [
           0.5555555555555556,
           "#d8576b"
          ],
          [
           0.6666666666666666,
           "#ed7953"
          ],
          [
           0.7777777777777778,
           "#fb9f3a"
          ],
          [
           0.8888888888888888,
           "#fdca26"
          ],
          [
           1,
           "#f0f921"
          ]
         ]
        },
        "legend": {
         "tracegroupgap": 0
        },
        "template": {
         "data": {
          "bar": [
           {
            "error_x": {
             "color": "#2a3f5f"
            },
            "error_y": {
             "color": "#2a3f5f"
            },
            "marker": {
             "line": {
              "color": "#E5ECF6",
              "width": 0.5
             },
             "pattern": {
              "fillmode": "overlay",
              "size": 10,
              "solidity": 0.2
             }
            },
            "type": "bar"
           }
          ],
          "barpolar": [
           {
            "marker": {
             "line": {
              "color": "#E5ECF6",
              "width": 0.5
             },
             "pattern": {
              "fillmode": "overlay",
              "size": 10,
              "solidity": 0.2
             }
            },
            "type": "barpolar"
           }
          ],
          "carpet": [
           {
            "aaxis": {
             "endlinecolor": "#2a3f5f",
             "gridcolor": "white",
             "linecolor": "white",
             "minorgridcolor": "white",
             "startlinecolor": "#2a3f5f"
            },
            "baxis": {
             "endlinecolor": "#2a3f5f",
             "gridcolor": "white",
             "linecolor": "white",
             "minorgridcolor": "white",
             "startlinecolor": "#2a3f5f"
            },
            "type": "carpet"
           }
          ],
          "choropleth": [
           {
            "colorbar": {
             "outlinewidth": 0,
             "ticks": ""
            },
            "type": "choropleth"
           }
          ],
          "contour": [
           {
            "colorbar": {
             "outlinewidth": 0,
             "ticks": ""
            },
            "colorscale": [
             [
              0,
              "#0d0887"
             ],
             [
              0.1111111111111111,
              "#46039f"
             ],
             [
              0.2222222222222222,
              "#7201a8"
             ],
             [
              0.3333333333333333,
              "#9c179e"
             ],
             [
              0.4444444444444444,
              "#bd3786"
             ],
             [
              0.5555555555555556,
              "#d8576b"
             ],
             [
              0.6666666666666666,
              "#ed7953"
             ],
             [
              0.7777777777777778,
              "#fb9f3a"
             ],
             [
              0.8888888888888888,
              "#fdca26"
             ],
             [
              1,
              "#f0f921"
             ]
            ],
            "type": "contour"
           }
          ],
          "contourcarpet": [
           {
            "colorbar": {
             "outlinewidth": 0,
             "ticks": ""
            },
            "type": "contourcarpet"
           }
          ],
          "heatmap": [
           {
            "colorbar": {
             "outlinewidth": 0,
             "ticks": ""
            },
            "colorscale": [
             [
              0,
              "#0d0887"
             ],
             [
              0.1111111111111111,
              "#46039f"
             ],
             [
              0.2222222222222222,
              "#7201a8"
             ],
             [
              0.3333333333333333,
              "#9c179e"
             ],
             [
              0.4444444444444444,
              "#bd3786"
             ],
             [
              0.5555555555555556,
              "#d8576b"
             ],
             [
              0.6666666666666666,
              "#ed7953"
             ],
             [
              0.7777777777777778,
              "#fb9f3a"
             ],
             [
              0.8888888888888888,
              "#fdca26"
             ],
             [
              1,
              "#f0f921"
             ]
            ],
            "type": "heatmap"
           }
          ],
          "heatmapgl": [
           {
            "colorbar": {
             "outlinewidth": 0,
             "ticks": ""
            },
            "colorscale": [
             [
              0,
              "#0d0887"
             ],
             [
              0.1111111111111111,
              "#46039f"
             ],
             [
              0.2222222222222222,
              "#7201a8"
             ],
             [
              0.3333333333333333,
              "#9c179e"
             ],
             [
              0.4444444444444444,
              "#bd3786"
             ],
             [
              0.5555555555555556,
              "#d8576b"
             ],
             [
              0.6666666666666666,
              "#ed7953"
             ],
             [
              0.7777777777777778,
              "#fb9f3a"
             ],
             [
              0.8888888888888888,
              "#fdca26"
             ],
             [
              1,
              "#f0f921"
             ]
            ],
            "type": "heatmapgl"
           }
          ],
          "histogram": [
           {
            "marker": {
             "pattern": {
              "fillmode": "overlay",
              "size": 10,
              "solidity": 0.2
             }
            },
            "type": "histogram"
           }
          ],
          "histogram2d": [
           {
            "colorbar": {
             "outlinewidth": 0,
             "ticks": ""
            },
            "colorscale": [
             [
              0,
              "#0d0887"
             ],
             [
              0.1111111111111111,
              "#46039f"
             ],
             [
              0.2222222222222222,
              "#7201a8"
             ],
             [
              0.3333333333333333,
              "#9c179e"
             ],
             [
              0.4444444444444444,
              "#bd3786"
             ],
             [
              0.5555555555555556,
              "#d8576b"
             ],
             [
              0.6666666666666666,
              "#ed7953"
             ],
             [
              0.7777777777777778,
              "#fb9f3a"
             ],
             [
              0.8888888888888888,
              "#fdca26"
             ],
             [
              1,
              "#f0f921"
             ]
            ],
            "type": "histogram2d"
           }
          ],
          "histogram2dcontour": [
           {
            "colorbar": {
             "outlinewidth": 0,
             "ticks": ""
            },
            "colorscale": [
             [
              0,
              "#0d0887"
             ],
             [
              0.1111111111111111,
              "#46039f"
             ],
             [
              0.2222222222222222,
              "#7201a8"
             ],
             [
              0.3333333333333333,
              "#9c179e"
             ],
             [
              0.4444444444444444,
              "#bd3786"
             ],
             [
              0.5555555555555556,
              "#d8576b"
             ],
             [
              0.6666666666666666,
              "#ed7953"
             ],
             [
              0.7777777777777778,
              "#fb9f3a"
             ],
             [
              0.8888888888888888,
              "#fdca26"
             ],
             [
              1,
              "#f0f921"
             ]
            ],
            "type": "histogram2dcontour"
           }
          ],
          "mesh3d": [
           {
            "colorbar": {
             "outlinewidth": 0,
             "ticks": ""
            },
            "type": "mesh3d"
           }
          ],
          "parcoords": [
           {
            "line": {
             "colorbar": {
              "outlinewidth": 0,
              "ticks": ""
             }
            },
            "type": "parcoords"
           }
          ],
          "pie": [
           {
            "automargin": true,
            "type": "pie"
           }
          ],
          "scatter": [
           {
            "fillpattern": {
             "fillmode": "overlay",
             "size": 10,
             "solidity": 0.2
            },
            "type": "scatter"
           }
          ],
          "scatter3d": [
           {
            "line": {
             "colorbar": {
              "outlinewidth": 0,
              "ticks": ""
             }
            },
            "marker": {
             "colorbar": {
              "outlinewidth": 0,
              "ticks": ""
             }
            },
            "type": "scatter3d"
           }
          ],
          "scattercarpet": [
           {
            "marker": {
             "colorbar": {
              "outlinewidth": 0,
              "ticks": ""
             }
            },
            "type": "scattercarpet"
           }
          ],
          "scattergeo": [
           {
            "marker": {
             "colorbar": {
              "outlinewidth": 0,
              "ticks": ""
             }
            },
            "type": "scattergeo"
           }
          ],
          "scattergl": [
           {
            "marker": {
             "colorbar": {
              "outlinewidth": 0,
              "ticks": ""
             }
            },
            "type": "scattergl"
           }
          ],
          "scattermapbox": [
           {
            "marker": {
             "colorbar": {
              "outlinewidth": 0,
              "ticks": ""
             }
            },
            "type": "scattermapbox"
           }
          ],
          "scatterpolar": [
           {
            "marker": {
             "colorbar": {
              "outlinewidth": 0,
              "ticks": ""
             }
            },
            "type": "scatterpolar"
           }
          ],
          "scatterpolargl": [
           {
            "marker": {
             "colorbar": {
              "outlinewidth": 0,
              "ticks": ""
             }
            },
            "type": "scatterpolargl"
           }
          ],
          "scatterternary": [
           {
            "marker": {
             "colorbar": {
              "outlinewidth": 0,
              "ticks": ""
             }
            },
            "type": "scatterternary"
           }
          ],
          "surface": [
           {
            "colorbar": {
             "outlinewidth": 0,
             "ticks": ""
            },
            "colorscale": [
             [
              0,
              "#0d0887"
             ],
             [
              0.1111111111111111,
              "#46039f"
             ],
             [
              0.2222222222222222,
              "#7201a8"
             ],
             [
              0.3333333333333333,
              "#9c179e"
             ],
             [
              0.4444444444444444,
              "#bd3786"
             ],
             [
              0.5555555555555556,
              "#d8576b"
             ],
             [
              0.6666666666666666,
              "#ed7953"
             ],
             [
              0.7777777777777778,
              "#fb9f3a"
             ],
             [
              0.8888888888888888,
              "#fdca26"
             ],
             [
              1,
              "#f0f921"
             ]
            ],
            "type": "surface"
           }
          ],
          "table": [
           {
            "cells": {
             "fill": {
              "color": "#EBF0F8"
             },
             "line": {
              "color": "white"
             }
            },
            "header": {
             "fill": {
              "color": "#C8D4E3"
             },
             "line": {
              "color": "white"
             }
            },
            "type": "table"
           }
          ]
         },
         "layout": {
          "annotationdefaults": {
           "arrowcolor": "#2a3f5f",
           "arrowhead": 0,
           "arrowwidth": 1
          },
          "autotypenumbers": "strict",
          "coloraxis": {
           "colorbar": {
            "outlinewidth": 0,
            "ticks": ""
           }
          },
          "colorscale": {
           "diverging": [
            [
             0,
             "#8e0152"
            ],
            [
             0.1,
             "#c51b7d"
            ],
            [
             0.2,
             "#de77ae"
            ],
            [
             0.3,
             "#f1b6da"
            ],
            [
             0.4,
             "#fde0ef"
            ],
            [
             0.5,
             "#f7f7f7"
            ],
            [
             0.6,
             "#e6f5d0"
            ],
            [
             0.7,
             "#b8e186"
            ],
            [
             0.8,
             "#7fbc41"
            ],
            [
             0.9,
             "#4d9221"
            ],
            [
             1,
             "#276419"
            ]
           ],
           "sequential": [
            [
             0,
             "#0d0887"
            ],
            [
             0.1111111111111111,
             "#46039f"
            ],
            [
             0.2222222222222222,
             "#7201a8"
            ],
            [
             0.3333333333333333,
             "#9c179e"
            ],
            [
             0.4444444444444444,
             "#bd3786"
            ],
            [
             0.5555555555555556,
             "#d8576b"
            ],
            [
             0.6666666666666666,
             "#ed7953"
            ],
            [
             0.7777777777777778,
             "#fb9f3a"
            ],
            [
             0.8888888888888888,
             "#fdca26"
            ],
            [
             1,
             "#f0f921"
            ]
           ],
           "sequentialminus": [
            [
             0,
             "#0d0887"
            ],
            [
             0.1111111111111111,
             "#46039f"
            ],
            [
             0.2222222222222222,
             "#7201a8"
            ],
            [
             0.3333333333333333,
             "#9c179e"
            ],
            [
             0.4444444444444444,
             "#bd3786"
            ],
            [
             0.5555555555555556,
             "#d8576b"
            ],
            [
             0.6666666666666666,
             "#ed7953"
            ],
            [
             0.7777777777777778,
             "#fb9f3a"
            ],
            [
             0.8888888888888888,
             "#fdca26"
            ],
            [
             1,
             "#f0f921"
            ]
           ]
          },
          "colorway": [
           "#636efa",
           "#EF553B",
           "#00cc96",
           "#ab63fa",
           "#FFA15A",
           "#19d3f3",
           "#FF6692",
           "#B6E880",
           "#FF97FF",
           "#FECB52"
          ],
          "font": {
           "color": "#2a3f5f"
          },
          "geo": {
           "bgcolor": "white",
           "lakecolor": "white",
           "landcolor": "#E5ECF6",
           "showlakes": true,
           "showland": true,
           "subunitcolor": "white"
          },
          "hoverlabel": {
           "align": "left"
          },
          "hovermode": "closest",
          "mapbox": {
           "style": "light"
          },
          "paper_bgcolor": "white",
          "plot_bgcolor": "#E5ECF6",
          "polar": {
           "angularaxis": {
            "gridcolor": "white",
            "linecolor": "white",
            "ticks": ""
           },
           "bgcolor": "#E5ECF6",
           "radialaxis": {
            "gridcolor": "white",
            "linecolor": "white",
            "ticks": ""
           }
          },
          "scene": {
           "xaxis": {
            "backgroundcolor": "#E5ECF6",
            "gridcolor": "white",
            "gridwidth": 2,
            "linecolor": "white",
            "showbackground": true,
            "ticks": "",
            "zerolinecolor": "white"
           },
           "yaxis": {
            "backgroundcolor": "#E5ECF6",
            "gridcolor": "white",
            "gridwidth": 2,
            "linecolor": "white",
            "showbackground": true,
            "ticks": "",
            "zerolinecolor": "white"
           },
           "zaxis": {
            "backgroundcolor": "#E5ECF6",
            "gridcolor": "white",
            "gridwidth": 2,
            "linecolor": "white",
            "showbackground": true,
            "ticks": "",
            "zerolinecolor": "white"
           }
          },
          "shapedefaults": {
           "line": {
            "color": "#2a3f5f"
           }
          },
          "ternary": {
           "aaxis": {
            "gridcolor": "white",
            "linecolor": "white",
            "ticks": ""
           },
           "baxis": {
            "gridcolor": "white",
            "linecolor": "white",
            "ticks": ""
           },
           "bgcolor": "#E5ECF6",
           "caxis": {
            "gridcolor": "white",
            "linecolor": "white",
            "ticks": ""
           }
          },
          "title": {
           "x": 0.05
          },
          "xaxis": {
           "automargin": true,
           "gridcolor": "white",
           "linecolor": "white",
           "ticks": "",
           "title": {
            "standoff": 15
           },
           "zerolinecolor": "white",
           "zerolinewidth": 2
          },
          "yaxis": {
           "automargin": true,
           "gridcolor": "white",
           "linecolor": "white",
           "ticks": "",
           "title": {
            "standoff": 15
           },
           "zerolinecolor": "white",
           "zerolinewidth": 2
          }
         }
        },
        "title": {
         "text": "Top 15 Genres on the Lineup"
        },
        "xaxis": {
         "anchor": "y",
         "domain": [
          0,
          1
         ],
         "title": {
          "text": "Genre"
         }
        },
        "yaxis": {
         "anchor": "x",
         "domain": [
          0,
          1
         ],
         "title": {
          "text": "Count"
         }
        }
       }
      },
      "text/html": [
       "<div>                            <div id=\"e2dae711-cb2d-4c58-bf6d-a100936165b4\" class=\"plotly-graph-div\" style=\"height:525px; width:100%;\"></div>            <script type=\"text/javascript\">                require([\"plotly\"], function(Plotly) {                    window.PLOTLYENV=window.PLOTLYENV || {};                                    if (document.getElementById(\"e2dae711-cb2d-4c58-bf6d-a100936165b4\")) {                    Plotly.newPlot(                        \"e2dae711-cb2d-4c58-bf6d-a100936165b4\",                        [{\"alignmentgroup\":\"True\",\"hovertemplate\":\"Genre=%{x}<br>Count=%{y}<br>color=%{marker.color}<extra></extra>\",\"legendgroup\":\"\",\"marker\":{\"color\":[6,5,5,5,5,4,4,4,4,4,4,3,3,3,3],\"coloraxis\":\"coloraxis\",\"pattern\":{\"shape\":\"\"}},\"name\":\"\",\"offsetgroup\":\"\",\"orientation\":\"v\",\"showlegend\":false,\"textposition\":\"auto\",\"x\":[\"house\",\"art pop\",\"indie pop\",\"pop\",\"tech house\",\"edm\",\"indie soul\",\"indietronica\",\"pop dance\",\"pov: indie\",\"rap\",\"alternative r&b\",\"crank wave\",\"dance pop\",\"electra\"],\"xaxis\":\"x\",\"y\":[6,5,5,5,5,4,4,4,4,4,4,3,3,3,3],\"yaxis\":\"y\",\"type\":\"bar\"}],                        {\"template\":{\"data\":{\"histogram2dcontour\":[{\"type\":\"histogram2dcontour\",\"colorbar\":{\"outlinewidth\":0,\"ticks\":\"\"},\"colorscale\":[[0.0,\"#0d0887\"],[0.1111111111111111,\"#46039f\"],[0.2222222222222222,\"#7201a8\"],[0.3333333333333333,\"#9c179e\"],[0.4444444444444444,\"#bd3786\"],[0.5555555555555556,\"#d8576b\"],[0.6666666666666666,\"#ed7953\"],[0.7777777777777778,\"#fb9f3a\"],[0.8888888888888888,\"#fdca26\"],[1.0,\"#f0f921\"]]}],\"choropleth\":[{\"type\":\"choropleth\",\"colorbar\":{\"outlinewidth\":0,\"ticks\":\"\"}}],\"histogram2d\":[{\"type\":\"histogram2d\",\"colorbar\":{\"outlinewidth\":0,\"ticks\":\"\"},\"colorscale\":[[0.0,\"#0d0887\"],[0.1111111111111111,\"#46039f\"],[0.2222222222222222,\"#7201a8\"],[0.3333333333333333,\"#9c179e\"],[0.4444444444444444,\"#bd3786\"],[0.5555555555555556,\"#d8576b\"],[0.6666666666666666,\"#ed7953\"],[0.7777777777777778,\"#fb9f3a\"],[0.8888888888888888,\"#fdca26\"],[1.0,\"#f0f921\"]]}],\"heatmap\":[{\"type\":\"heatmap\",\"colorbar\":{\"outlinewidth\":0,\"ticks\":\"\"},\"colorscale\":[[0.0,\"#0d0887\"],[0.1111111111111111,\"#46039f\"],[0.2222222222222222,\"#7201a8\"],[0.3333333333333333,\"#9c179e\"],[0.4444444444444444,\"#bd3786\"],[0.5555555555555556,\"#d8576b\"],[0.6666666666666666,\"#ed7953\"],[0.7777777777777778,\"#fb9f3a\"],[0.8888888888888888,\"#fdca26\"],[1.0,\"#f0f921\"]]}],\"heatmapgl\":[{\"type\":\"heatmapgl\",\"colorbar\":{\"outlinewidth\":0,\"ticks\":\"\"},\"colorscale\":[[0.0,\"#0d0887\"],[0.1111111111111111,\"#46039f\"],[0.2222222222222222,\"#7201a8\"],[0.3333333333333333,\"#9c179e\"],[0.4444444444444444,\"#bd3786\"],[0.5555555555555556,\"#d8576b\"],[0.6666666666666666,\"#ed7953\"],[0.7777777777777778,\"#fb9f3a\"],[0.8888888888888888,\"#fdca26\"],[1.0,\"#f0f921\"]]}],\"contourcarpet\":[{\"type\":\"contourcarpet\",\"colorbar\":{\"outlinewidth\":0,\"ticks\":\"\"}}],\"contour\":[{\"type\":\"contour\",\"colorbar\":{\"outlinewidth\":0,\"ticks\":\"\"},\"colorscale\":[[0.0,\"#0d0887\"],[0.1111111111111111,\"#46039f\"],[0.2222222222222222,\"#7201a8\"],[0.3333333333333333,\"#9c179e\"],[0.4444444444444444,\"#bd3786\"],[0.5555555555555556,\"#d8576b\"],[0.6666666666666666,\"#ed7953\"],[0.7777777777777778,\"#fb9f3a\"],[0.8888888888888888,\"#fdca26\"],[1.0,\"#f0f921\"]]}],\"surface\":[{\"type\":\"surface\",\"colorbar\":{\"outlinewidth\":0,\"ticks\":\"\"},\"colorscale\":[[0.0,\"#0d0887\"],[0.1111111111111111,\"#46039f\"],[0.2222222222222222,\"#7201a8\"],[0.3333333333333333,\"#9c179e\"],[0.4444444444444444,\"#bd3786\"],[0.5555555555555556,\"#d8576b\"],[0.6666666666666666,\"#ed7953\"],[0.7777777777777778,\"#fb9f3a\"],[0.8888888888888888,\"#fdca26\"],[1.0,\"#f0f921\"]]}],\"mesh3d\":[{\"type\":\"mesh3d\",\"colorbar\":{\"outlinewidth\":0,\"ticks\":\"\"}}],\"scatter\":[{\"fillpattern\":{\"fillmode\":\"overlay\",\"size\":10,\"solidity\":0.2},\"type\":\"scatter\"}],\"parcoords\":[{\"type\":\"parcoords\",\"line\":{\"colorbar\":{\"outlinewidth\":0,\"ticks\":\"\"}}}],\"scatterpolargl\":[{\"type\":\"scatterpolargl\",\"marker\":{\"colorbar\":{\"outlinewidth\":0,\"ticks\":\"\"}}}],\"bar\":[{\"error_x\":{\"color\":\"#2a3f5f\"},\"error_y\":{\"color\":\"#2a3f5f\"},\"marker\":{\"line\":{\"color\":\"#E5ECF6\",\"width\":0.5},\"pattern\":{\"fillmode\":\"overlay\",\"size\":10,\"solidity\":0.2}},\"type\":\"bar\"}],\"scattergeo\":[{\"type\":\"scattergeo\",\"marker\":{\"colorbar\":{\"outlinewidth\":0,\"ticks\":\"\"}}}],\"scatterpolar\":[{\"type\":\"scatterpolar\",\"marker\":{\"colorbar\":{\"outlinewidth\":0,\"ticks\":\"\"}}}],\"histogram\":[{\"marker\":{\"pattern\":{\"fillmode\":\"overlay\",\"size\":10,\"solidity\":0.2}},\"type\":\"histogram\"}],\"scattergl\":[{\"type\":\"scattergl\",\"marker\":{\"colorbar\":{\"outlinewidth\":0,\"ticks\":\"\"}}}],\"scatter3d\":[{\"type\":\"scatter3d\",\"line\":{\"colorbar\":{\"outlinewidth\":0,\"ticks\":\"\"}},\"marker\":{\"colorbar\":{\"outlinewidth\":0,\"ticks\":\"\"}}}],\"scattermapbox\":[{\"type\":\"scattermapbox\",\"marker\":{\"colorbar\":{\"outlinewidth\":0,\"ticks\":\"\"}}}],\"scatterternary\":[{\"type\":\"scatterternary\",\"marker\":{\"colorbar\":{\"outlinewidth\":0,\"ticks\":\"\"}}}],\"scattercarpet\":[{\"type\":\"scattercarpet\",\"marker\":{\"colorbar\":{\"outlinewidth\":0,\"ticks\":\"\"}}}],\"carpet\":[{\"aaxis\":{\"endlinecolor\":\"#2a3f5f\",\"gridcolor\":\"white\",\"linecolor\":\"white\",\"minorgridcolor\":\"white\",\"startlinecolor\":\"#2a3f5f\"},\"baxis\":{\"endlinecolor\":\"#2a3f5f\",\"gridcolor\":\"white\",\"linecolor\":\"white\",\"minorgridcolor\":\"white\",\"startlinecolor\":\"#2a3f5f\"},\"type\":\"carpet\"}],\"table\":[{\"cells\":{\"fill\":{\"color\":\"#EBF0F8\"},\"line\":{\"color\":\"white\"}},\"header\":{\"fill\":{\"color\":\"#C8D4E3\"},\"line\":{\"color\":\"white\"}},\"type\":\"table\"}],\"barpolar\":[{\"marker\":{\"line\":{\"color\":\"#E5ECF6\",\"width\":0.5},\"pattern\":{\"fillmode\":\"overlay\",\"size\":10,\"solidity\":0.2}},\"type\":\"barpolar\"}],\"pie\":[{\"automargin\":true,\"type\":\"pie\"}]},\"layout\":{\"autotypenumbers\":\"strict\",\"colorway\":[\"#636efa\",\"#EF553B\",\"#00cc96\",\"#ab63fa\",\"#FFA15A\",\"#19d3f3\",\"#FF6692\",\"#B6E880\",\"#FF97FF\",\"#FECB52\"],\"font\":{\"color\":\"#2a3f5f\"},\"hovermode\":\"closest\",\"hoverlabel\":{\"align\":\"left\"},\"paper_bgcolor\":\"white\",\"plot_bgcolor\":\"#E5ECF6\",\"polar\":{\"bgcolor\":\"#E5ECF6\",\"angularaxis\":{\"gridcolor\":\"white\",\"linecolor\":\"white\",\"ticks\":\"\"},\"radialaxis\":{\"gridcolor\":\"white\",\"linecolor\":\"white\",\"ticks\":\"\"}},\"ternary\":{\"bgcolor\":\"#E5ECF6\",\"aaxis\":{\"gridcolor\":\"white\",\"linecolor\":\"white\",\"ticks\":\"\"},\"baxis\":{\"gridcolor\":\"white\",\"linecolor\":\"white\",\"ticks\":\"\"},\"caxis\":{\"gridcolor\":\"white\",\"linecolor\":\"white\",\"ticks\":\"\"}},\"coloraxis\":{\"colorbar\":{\"outlinewidth\":0,\"ticks\":\"\"}},\"colorscale\":{\"sequential\":[[0.0,\"#0d0887\"],[0.1111111111111111,\"#46039f\"],[0.2222222222222222,\"#7201a8\"],[0.3333333333333333,\"#9c179e\"],[0.4444444444444444,\"#bd3786\"],[0.5555555555555556,\"#d8576b\"],[0.6666666666666666,\"#ed7953\"],[0.7777777777777778,\"#fb9f3a\"],[0.8888888888888888,\"#fdca26\"],[1.0,\"#f0f921\"]],\"sequentialminus\":[[0.0,\"#0d0887\"],[0.1111111111111111,\"#46039f\"],[0.2222222222222222,\"#7201a8\"],[0.3333333333333333,\"#9c179e\"],[0.4444444444444444,\"#bd3786\"],[0.5555555555555556,\"#d8576b\"],[0.6666666666666666,\"#ed7953\"],[0.7777777777777778,\"#fb9f3a\"],[0.8888888888888888,\"#fdca26\"],[1.0,\"#f0f921\"]],\"diverging\":[[0,\"#8e0152\"],[0.1,\"#c51b7d\"],[0.2,\"#de77ae\"],[0.3,\"#f1b6da\"],[0.4,\"#fde0ef\"],[0.5,\"#f7f7f7\"],[0.6,\"#e6f5d0\"],[0.7,\"#b8e186\"],[0.8,\"#7fbc41\"],[0.9,\"#4d9221\"],[1,\"#276419\"]]},\"xaxis\":{\"gridcolor\":\"white\",\"linecolor\":\"white\",\"ticks\":\"\",\"title\":{\"standoff\":15},\"zerolinecolor\":\"white\",\"automargin\":true,\"zerolinewidth\":2},\"yaxis\":{\"gridcolor\":\"white\",\"linecolor\":\"white\",\"ticks\":\"\",\"title\":{\"standoff\":15},\"zerolinecolor\":\"white\",\"automargin\":true,\"zerolinewidth\":2},\"scene\":{\"xaxis\":{\"backgroundcolor\":\"#E5ECF6\",\"gridcolor\":\"white\",\"linecolor\":\"white\",\"showbackground\":true,\"ticks\":\"\",\"zerolinecolor\":\"white\",\"gridwidth\":2},\"yaxis\":{\"backgroundcolor\":\"#E5ECF6\",\"gridcolor\":\"white\",\"linecolor\":\"white\",\"showbackground\":true,\"ticks\":\"\",\"zerolinecolor\":\"white\",\"gridwidth\":2},\"zaxis\":{\"backgroundcolor\":\"#E5ECF6\",\"gridcolor\":\"white\",\"linecolor\":\"white\",\"showbackground\":true,\"ticks\":\"\",\"zerolinecolor\":\"white\",\"gridwidth\":2}},\"shapedefaults\":{\"line\":{\"color\":\"#2a3f5f\"}},\"annotationdefaults\":{\"arrowcolor\":\"#2a3f5f\",\"arrowhead\":0,\"arrowwidth\":1},\"geo\":{\"bgcolor\":\"white\",\"landcolor\":\"#E5ECF6\",\"subunitcolor\":\"white\",\"showland\":true,\"showlakes\":true,\"lakecolor\":\"white\"},\"title\":{\"x\":0.05},\"mapbox\":{\"style\":\"light\"}}},\"xaxis\":{\"anchor\":\"y\",\"domain\":[0.0,1.0],\"title\":{\"text\":\"Genre\"}},\"yaxis\":{\"anchor\":\"x\",\"domain\":[0.0,1.0],\"title\":{\"text\":\"Count\"}},\"coloraxis\":{\"colorbar\":{\"title\":{\"text\":\"color\"}},\"colorscale\":[[0.0,\"#0d0887\"],[0.1111111111111111,\"#46039f\"],[0.2222222222222222,\"#7201a8\"],[0.3333333333333333,\"#9c179e\"],[0.4444444444444444,\"#bd3786\"],[0.5555555555555556,\"#d8576b\"],[0.6666666666666666,\"#ed7953\"],[0.7777777777777778,\"#fb9f3a\"],[0.8888888888888888,\"#fdca26\"],[1.0,\"#f0f921\"]]},\"legend\":{\"tracegroupgap\":0},\"title\":{\"text\":\"Top 15 Genres on the Lineup\"},\"barmode\":\"relative\"},                        {\"responsive\": true}                    ).then(function(){\n",
       "                            \n",
       "var gd = document.getElementById('e2dae711-cb2d-4c58-bf6d-a100936165b4');\n",
       "var x = new MutationObserver(function (mutations, observer) {{\n",
       "        var display = window.getComputedStyle(gd).display;\n",
       "        if (!display || display === 'none') {{\n",
       "            console.log([gd, 'removed!']);\n",
       "            Plotly.purge(gd);\n",
       "            observer.disconnect();\n",
       "        }}\n",
       "}});\n",
       "\n",
       "// Listen for the removal of the full notebook cells\n",
       "var notebookContainer = gd.closest('#notebook-container');\n",
       "if (notebookContainer) {{\n",
       "    x.observe(notebookContainer, {childList: true});\n",
       "}}\n",
       "\n",
       "// Listen for the clearing of the current output cell\n",
       "var outputEl = gd.closest('.output');\n",
       "if (outputEl) {{\n",
       "    x.observe(outputEl, {childList: true});\n",
       "}}\n",
       "\n",
       "                        })                };                });            </script>        </div>"
      ]
     },
     "metadata": {},
     "output_type": "display_data"
    }
   ],
   "source": [
    "# Visualize Genres\n",
    "genres = []\n",
    "counts = []\n",
    "\n",
    "for i in range(len(top15)):\n",
    "    genres.append(top15[i][0])\n",
    "    counts.append(int(top15[i][1]))\n",
    "\n",
    "fig = px.bar(top15, \n",
    "             x = genres, \n",
    "             y = counts, \n",
    "             color = counts,\n",
    "             title = \"Top 15 Genres on the Lineup\",\n",
    "             labels={\n",
    "                     \"x\": \"Genre\",\n",
    "                     \"y\": \"Count\"\n",
    "                 })\n",
    "\n",
    "fig.show()"
   ]
  },
  {
   "cell_type": "markdown",
   "id": "fa324be0",
   "metadata": {},
   "source": [
    "### Artist Popularity"
   ]
  },
  {
   "cell_type": "code",
   "execution_count": 444,
   "id": "8d90da42",
   "metadata": {},
   "outputs": [
    {
     "data": {
      "text/html": [
       "<div>\n",
       "<style scoped>\n",
       "    .dataframe tbody tr th:only-of-type {\n",
       "        vertical-align: middle;\n",
       "    }\n",
       "\n",
       "    .dataframe tbody tr th {\n",
       "        vertical-align: top;\n",
       "    }\n",
       "\n",
       "    .dataframe thead th {\n",
       "        text-align: right;\n",
       "    }\n",
       "</style>\n",
       "<table border=\"1\" class=\"dataframe\">\n",
       "  <thead>\n",
       "    <tr style=\"text-align: right;\">\n",
       "      <th></th>\n",
       "      <th>name</th>\n",
       "      <th>genres</th>\n",
       "      <th>popularity</th>\n",
       "      <th>followers</th>\n",
       "    </tr>\n",
       "  </thead>\n",
       "  <tbody>\n",
       "    <tr>\n",
       "      <th>79</th>\n",
       "      <td>Keyspan</td>\n",
       "      <td>[]</td>\n",
       "      <td>7</td>\n",
       "      <td>177</td>\n",
       "    </tr>\n",
       "    <tr>\n",
       "      <th>108</th>\n",
       "      <td>Patrick Mason</td>\n",
       "      <td>[art song]</td>\n",
       "      <td>20</td>\n",
       "      <td>1548</td>\n",
       "    </tr>\n",
       "    <tr>\n",
       "      <th>67</th>\n",
       "      <td>JJUUJJUU</td>\n",
       "      <td>[neo-psychedelic]</td>\n",
       "      <td>23</td>\n",
       "      <td>7947</td>\n",
       "    </tr>\n",
       "    <tr>\n",
       "      <th>137</th>\n",
       "      <td>Upchuck</td>\n",
       "      <td>[atlanta punk, black punk]</td>\n",
       "      <td>27</td>\n",
       "      <td>8072</td>\n",
       "    </tr>\n",
       "    <tr>\n",
       "      <th>134</th>\n",
       "      <td>Two Shell</td>\n",
       "      <td>[experimental club]</td>\n",
       "      <td>29</td>\n",
       "      <td>24653</td>\n",
       "    </tr>\n",
       "    <tr>\n",
       "      <th>3</th>\n",
       "      <td>Marcel Dettmann</td>\n",
       "      <td>[microhouse, minimal techno, techno]</td>\n",
       "      <td>31</td>\n",
       "      <td>73747</td>\n",
       "    </tr>\n",
       "    <tr>\n",
       "      <th>16</th>\n",
       "      <td>Ben Sterling</td>\n",
       "      <td>[tech house, uk tech house]</td>\n",
       "      <td>31</td>\n",
       "      <td>11101</td>\n",
       "    </tr>\n",
       "    <tr>\n",
       "      <th>95</th>\n",
       "      <td>Mandy, Indiana</td>\n",
       "      <td>[british experimental, crank wave]</td>\n",
       "      <td>33</td>\n",
       "      <td>15962</td>\n",
       "    </tr>\n",
       "    <tr>\n",
       "      <th>97</th>\n",
       "      <td>Mdou Moctar</td>\n",
       "      <td>[desert blues, musique nigerienne, tuareg guitar]</td>\n",
       "      <td>36</td>\n",
       "      <td>113484</td>\n",
       "    </tr>\n",
       "    <tr>\n",
       "      <th>124</th>\n",
       "      <td>Son Rompe Pera</td>\n",
       "      <td>[marimba mexicana]</td>\n",
       "      <td>36</td>\n",
       "      <td>29745</td>\n",
       "    </tr>\n",
       "  </tbody>\n",
       "</table>\n",
       "</div>"
      ],
      "text/plain": [
       "                name                                             genres  \\\n",
       "79           Keyspan                                                 []   \n",
       "108    Patrick Mason                                         [art song]   \n",
       "67          JJUUJJUU                                  [neo-psychedelic]   \n",
       "137          Upchuck                         [atlanta punk, black punk]   \n",
       "134        Two Shell                                [experimental club]   \n",
       "3    Marcel Dettmann               [microhouse, minimal techno, techno]   \n",
       "16      Ben Sterling                        [tech house, uk tech house]   \n",
       "95    Mandy, Indiana                 [british experimental, crank wave]   \n",
       "97       Mdou Moctar  [desert blues, musique nigerienne, tuareg guitar]   \n",
       "124   Son Rompe Pera                                 [marimba mexicana]   \n",
       "\n",
       "     popularity  followers  \n",
       "79            7        177  \n",
       "108          20       1548  \n",
       "67           23       7947  \n",
       "137          27       8072  \n",
       "134          29      24653  \n",
       "3            31      73747  \n",
       "16           31      11101  \n",
       "95           33      15962  \n",
       "97           36     113484  \n",
       "124          36      29745  "
      ]
     },
     "execution_count": 444,
     "metadata": {},
     "output_type": "execute_result"
    }
   ],
   "source": [
    "# Bottom 10 artists by popularity\n",
    "df.sort_values(by = [\"popularity\"], ascending=True).head(10)"
   ]
  },
  {
   "cell_type": "code",
   "execution_count": 445,
   "id": "c7ad9819",
   "metadata": {
    "scrolled": true
   },
   "outputs": [
    {
     "data": {
      "text/html": [
       "<div>\n",
       "<style scoped>\n",
       "    .dataframe tbody tr th:only-of-type {\n",
       "        vertical-align: middle;\n",
       "    }\n",
       "\n",
       "    .dataframe tbody tr th {\n",
       "        vertical-align: top;\n",
       "    }\n",
       "\n",
       "    .dataframe thead th {\n",
       "        text-align: right;\n",
       "    }\n",
       "</style>\n",
       "<table border=\"1\" class=\"dataframe\">\n",
       "  <thead>\n",
       "    <tr style=\"text-align: right;\">\n",
       "      <th></th>\n",
       "      <th>name</th>\n",
       "      <th>genres</th>\n",
       "      <th>popularity</th>\n",
       "      <th>followers</th>\n",
       "    </tr>\n",
       "  </thead>\n",
       "  <tbody>\n",
       "    <tr>\n",
       "      <th>109</th>\n",
       "      <td>Peso Pluma</td>\n",
       "      <td>[corridos tumbados, sad sierreno]</td>\n",
       "      <td>92</td>\n",
       "      <td>11321815</td>\n",
       "    </tr>\n",
       "    <tr>\n",
       "      <th>83</th>\n",
       "      <td>Lana Del Rey</td>\n",
       "      <td>[art pop, pop]</td>\n",
       "      <td>90</td>\n",
       "      <td>32070018</td>\n",
       "    </tr>\n",
       "    <tr>\n",
       "      <th>29</th>\n",
       "      <td>Carin Leon</td>\n",
       "      <td>[corrido, musica mexicana, sad sierreno, sierr...</td>\n",
       "      <td>86</td>\n",
       "      <td>10017933</td>\n",
       "    </tr>\n",
       "    <tr>\n",
       "      <th>64</th>\n",
       "      <td>J Balvin</td>\n",
       "      <td>[reggaeton, reggaeton colombiano, trap latino,...</td>\n",
       "      <td>85</td>\n",
       "      <td>37165272</td>\n",
       "    </tr>\n",
       "    <tr>\n",
       "      <th>88</th>\n",
       "      <td>Lil Uzi Vert</td>\n",
       "      <td>[hip hop, melodic rap, philly rap, rage rap, rap]</td>\n",
       "      <td>85</td>\n",
       "      <td>16620343</td>\n",
       "    </tr>\n",
       "    <tr>\n",
       "      <th>136</th>\n",
       "      <td>Tyler, The Creator</td>\n",
       "      <td>[hip hop, rap]</td>\n",
       "      <td>84</td>\n",
       "      <td>13987546</td>\n",
       "    </tr>\n",
       "    <tr>\n",
       "      <th>19</th>\n",
       "      <td>Bizarrap</td>\n",
       "      <td>[argentine hip hop, pop venezolano, trap argen...</td>\n",
       "      <td>84</td>\n",
       "      <td>14189802</td>\n",
       "    </tr>\n",
       "    <tr>\n",
       "      <th>143</th>\n",
       "      <td>Young Miko</td>\n",
       "      <td>[trap latino, urbano latino]</td>\n",
       "      <td>83</td>\n",
       "      <td>2256899</td>\n",
       "    </tr>\n",
       "    <tr>\n",
       "      <th>117</th>\n",
       "      <td>Sabrina Carpenter</td>\n",
       "      <td>[pop]</td>\n",
       "      <td>81</td>\n",
       "      <td>7196827</td>\n",
       "    </tr>\n",
       "    <tr>\n",
       "      <th>15</th>\n",
       "      <td>Bebe Rexha</td>\n",
       "      <td>[dance pop, pop]</td>\n",
       "      <td>80</td>\n",
       "      <td>8850459</td>\n",
       "    </tr>\n",
       "  </tbody>\n",
       "</table>\n",
       "</div>"
      ],
      "text/plain": [
       "                   name                                             genres  \\\n",
       "109          Peso Pluma                  [corridos tumbados, sad sierreno]   \n",
       "83         Lana Del Rey                                     [art pop, pop]   \n",
       "29           Carin Leon  [corrido, musica mexicana, sad sierreno, sierr...   \n",
       "64             J Balvin  [reggaeton, reggaeton colombiano, trap latino,...   \n",
       "88         Lil Uzi Vert  [hip hop, melodic rap, philly rap, rage rap, rap]   \n",
       "136  Tyler, The Creator                                     [hip hop, rap]   \n",
       "19             Bizarrap  [argentine hip hop, pop venezolano, trap argen...   \n",
       "143          Young Miko                       [trap latino, urbano latino]   \n",
       "117   Sabrina Carpenter                                              [pop]   \n",
       "15           Bebe Rexha                                   [dance pop, pop]   \n",
       "\n",
       "     popularity  followers  \n",
       "109          92   11321815  \n",
       "83           90   32070018  \n",
       "29           86   10017933  \n",
       "64           85   37165272  \n",
       "88           85   16620343  \n",
       "136          84   13987546  \n",
       "19           84   14189802  \n",
       "143          83    2256899  \n",
       "117          81    7196827  \n",
       "15           80    8850459  "
      ]
     },
     "execution_count": 445,
     "metadata": {},
     "output_type": "execute_result"
    }
   ],
   "source": [
    "# Top 10 artists by popularity\n",
    "df.sort_values(by = [\"popularity\"], ascending=False).head(10)"
   ]
  },
  {
   "cell_type": "code",
   "execution_count": 446,
   "id": "6952aa73",
   "metadata": {},
   "outputs": [
    {
     "data": {
      "text/html": [
       "<div>\n",
       "<style scoped>\n",
       "    .dataframe tbody tr th:only-of-type {\n",
       "        vertical-align: middle;\n",
       "    }\n",
       "\n",
       "    .dataframe tbody tr th {\n",
       "        vertical-align: top;\n",
       "    }\n",
       "\n",
       "    .dataframe thead th {\n",
       "        text-align: right;\n",
       "    }\n",
       "</style>\n",
       "<table border=\"1\" class=\"dataframe\">\n",
       "  <thead>\n",
       "    <tr style=\"text-align: right;\">\n",
       "      <th></th>\n",
       "      <th>name</th>\n",
       "      <th>genres</th>\n",
       "      <th>popularity</th>\n",
       "      <th>followers</th>\n",
       "    </tr>\n",
       "  </thead>\n",
       "  <tbody>\n",
       "    <tr>\n",
       "      <th>111</th>\n",
       "      <td>Rainer &amp; Co</td>\n",
       "      <td>[color noise]</td>\n",
       "      <td>37</td>\n",
       "      <td>16</td>\n",
       "    </tr>\n",
       "    <tr>\n",
       "      <th>79</th>\n",
       "      <td>Keyspan</td>\n",
       "      <td>[]</td>\n",
       "      <td>7</td>\n",
       "      <td>177</td>\n",
       "    </tr>\n",
       "    <tr>\n",
       "      <th>108</th>\n",
       "      <td>Patrick Mason</td>\n",
       "      <td>[art song]</td>\n",
       "      <td>20</td>\n",
       "      <td>1548</td>\n",
       "    </tr>\n",
       "    <tr>\n",
       "      <th>81</th>\n",
       "      <td>Kimonos</td>\n",
       "      <td>[]</td>\n",
       "      <td>45</td>\n",
       "      <td>1593</td>\n",
       "    </tr>\n",
       "    <tr>\n",
       "      <th>67</th>\n",
       "      <td>JJUUJJUU</td>\n",
       "      <td>[neo-psychedelic]</td>\n",
       "      <td>23</td>\n",
       "      <td>7947</td>\n",
       "    </tr>\n",
       "    <tr>\n",
       "      <th>137</th>\n",
       "      <td>Upchuck</td>\n",
       "      <td>[atlanta punk, black punk]</td>\n",
       "      <td>27</td>\n",
       "      <td>8072</td>\n",
       "    </tr>\n",
       "    <tr>\n",
       "      <th>71</th>\n",
       "      <td>JOPLYN</td>\n",
       "      <td>[]</td>\n",
       "      <td>36</td>\n",
       "      <td>8999</td>\n",
       "    </tr>\n",
       "    <tr>\n",
       "      <th>16</th>\n",
       "      <td>Ben Sterling</td>\n",
       "      <td>[tech house, uk tech house]</td>\n",
       "      <td>31</td>\n",
       "      <td>11101</td>\n",
       "    </tr>\n",
       "    <tr>\n",
       "      <th>95</th>\n",
       "      <td>Mandy, Indiana</td>\n",
       "      <td>[british experimental, crank wave]</td>\n",
       "      <td>33</td>\n",
       "      <td>15962</td>\n",
       "    </tr>\n",
       "    <tr>\n",
       "      <th>0</th>\n",
       "      <td>Adam Ten</td>\n",
       "      <td>[israeli techno]</td>\n",
       "      <td>43</td>\n",
       "      <td>16501</td>\n",
       "    </tr>\n",
       "  </tbody>\n",
       "</table>\n",
       "</div>"
      ],
      "text/plain": [
       "               name                              genres  popularity  followers\n",
       "111     Rainer & Co                       [color noise]          37         16\n",
       "79          Keyspan                                  []           7        177\n",
       "108   Patrick Mason                          [art song]          20       1548\n",
       "81          Kimonos                                  []          45       1593\n",
       "67         JJUUJJUU                   [neo-psychedelic]          23       7947\n",
       "137         Upchuck          [atlanta punk, black punk]          27       8072\n",
       "71           JOPLYN                                  []          36       8999\n",
       "16     Ben Sterling         [tech house, uk tech house]          31      11101\n",
       "95   Mandy, Indiana  [british experimental, crank wave]          33      15962\n",
       "0          Adam Ten                    [israeli techno]          43      16501"
      ]
     },
     "execution_count": 446,
     "metadata": {},
     "output_type": "execute_result"
    }
   ],
   "source": [
    "# Bottom 10 artists by followers\n",
    "df.sort_values(by = [\"followers\"], ascending=True).head(10)"
   ]
  },
  {
   "cell_type": "code",
   "execution_count": 447,
   "id": "4a26649a",
   "metadata": {},
   "outputs": [
    {
     "data": {
      "text/html": [
       "<div>\n",
       "<style scoped>\n",
       "    .dataframe tbody tr th:only-of-type {\n",
       "        vertical-align: middle;\n",
       "    }\n",
       "\n",
       "    .dataframe tbody tr th {\n",
       "        vertical-align: top;\n",
       "    }\n",
       "\n",
       "    .dataframe thead th {\n",
       "        text-align: right;\n",
       "    }\n",
       "</style>\n",
       "<table border=\"1\" class=\"dataframe\">\n",
       "  <thead>\n",
       "    <tr style=\"text-align: right;\">\n",
       "      <th></th>\n",
       "      <th>name</th>\n",
       "      <th>genres</th>\n",
       "      <th>popularity</th>\n",
       "      <th>followers</th>\n",
       "    </tr>\n",
       "  </thead>\n",
       "  <tbody>\n",
       "    <tr>\n",
       "      <th>64</th>\n",
       "      <td>J Balvin</td>\n",
       "      <td>[reggaeton, reggaeton colombiano, trap latino,...</td>\n",
       "      <td>85</td>\n",
       "      <td>37165272</td>\n",
       "    </tr>\n",
       "    <tr>\n",
       "      <th>83</th>\n",
       "      <td>Lana Del Rey</td>\n",
       "      <td>[art pop, pop]</td>\n",
       "      <td>90</td>\n",
       "      <td>32070018</td>\n",
       "    </tr>\n",
       "    <tr>\n",
       "      <th>88</th>\n",
       "      <td>Lil Uzi Vert</td>\n",
       "      <td>[hip hop, melodic rap, philly rap, rage rap, rap]</td>\n",
       "      <td>85</td>\n",
       "      <td>16620343</td>\n",
       "    </tr>\n",
       "    <tr>\n",
       "      <th>120</th>\n",
       "      <td>Sid Sriram</td>\n",
       "      <td>[filmi]</td>\n",
       "      <td>75</td>\n",
       "      <td>14487541</td>\n",
       "    </tr>\n",
       "    <tr>\n",
       "      <th>19</th>\n",
       "      <td>Bizarrap</td>\n",
       "      <td>[argentine hip hop, pop venezolano, trap argen...</td>\n",
       "      <td>84</td>\n",
       "      <td>14189802</td>\n",
       "    </tr>\n",
       "    <tr>\n",
       "      <th>136</th>\n",
       "      <td>Tyler, The Creator</td>\n",
       "      <td>[hip hop, rap]</td>\n",
       "      <td>84</td>\n",
       "      <td>13987546</td>\n",
       "    </tr>\n",
       "    <tr>\n",
       "      <th>109</th>\n",
       "      <td>Peso Pluma</td>\n",
       "      <td>[corridos tumbados, sad sierreno]</td>\n",
       "      <td>92</td>\n",
       "      <td>11321815</td>\n",
       "    </tr>\n",
       "    <tr>\n",
       "      <th>29</th>\n",
       "      <td>Carin Leon</td>\n",
       "      <td>[corrido, musica mexicana, sad sierreno, sierr...</td>\n",
       "      <td>86</td>\n",
       "      <td>10017933</td>\n",
       "    </tr>\n",
       "    <tr>\n",
       "      <th>89</th>\n",
       "      <td>Lil Yachty</td>\n",
       "      <td>[atl hip hop, melodic rap, rap, trap]</td>\n",
       "      <td>79</td>\n",
       "      <td>9628915</td>\n",
       "    </tr>\n",
       "    <tr>\n",
       "      <th>119</th>\n",
       "      <td>Santa Fe Klan</td>\n",
       "      <td>[mexican hip hop]</td>\n",
       "      <td>75</td>\n",
       "      <td>8884089</td>\n",
       "    </tr>\n",
       "  </tbody>\n",
       "</table>\n",
       "</div>"
      ],
      "text/plain": [
       "                   name                                             genres  \\\n",
       "64             J Balvin  [reggaeton, reggaeton colombiano, trap latino,...   \n",
       "83         Lana Del Rey                                     [art pop, pop]   \n",
       "88         Lil Uzi Vert  [hip hop, melodic rap, philly rap, rage rap, rap]   \n",
       "120          Sid Sriram                                            [filmi]   \n",
       "19             Bizarrap  [argentine hip hop, pop venezolano, trap argen...   \n",
       "136  Tyler, The Creator                                     [hip hop, rap]   \n",
       "109          Peso Pluma                  [corridos tumbados, sad sierreno]   \n",
       "29           Carin Leon  [corrido, musica mexicana, sad sierreno, sierr...   \n",
       "89           Lil Yachty              [atl hip hop, melodic rap, rap, trap]   \n",
       "119       Santa Fe Klan                                  [mexican hip hop]   \n",
       "\n",
       "     popularity  followers  \n",
       "64           85   37165272  \n",
       "83           90   32070018  \n",
       "88           85   16620343  \n",
       "120          75   14487541  \n",
       "19           84   14189802  \n",
       "136          84   13987546  \n",
       "109          92   11321815  \n",
       "29           86   10017933  \n",
       "89           79    9628915  \n",
       "119          75    8884089  "
      ]
     },
     "execution_count": 447,
     "metadata": {},
     "output_type": "execute_result"
    }
   ],
   "source": [
    "# Top 10 artists by followers\n",
    "df.sort_values(by = [\"followers\"], ascending=False).head(10)"
   ]
  },
  {
   "cell_type": "code",
   "execution_count": 448,
   "id": "159cf132",
   "metadata": {},
   "outputs": [
    {
     "data": {
      "text/html": [
       "<div>\n",
       "<style scoped>\n",
       "    .dataframe tbody tr th:only-of-type {\n",
       "        vertical-align: middle;\n",
       "    }\n",
       "\n",
       "    .dataframe tbody tr th {\n",
       "        vertical-align: top;\n",
       "    }\n",
       "\n",
       "    .dataframe thead th {\n",
       "        text-align: right;\n",
       "    }\n",
       "</style>\n",
       "<table border=\"1\" class=\"dataframe\">\n",
       "  <thead>\n",
       "    <tr style=\"text-align: right;\">\n",
       "      <th></th>\n",
       "      <th>popularity</th>\n",
       "      <th>followers</th>\n",
       "    </tr>\n",
       "  </thead>\n",
       "  <tbody>\n",
       "    <tr>\n",
       "      <th>count</th>\n",
       "      <td>145.000000</td>\n",
       "      <td>1.450000e+02</td>\n",
       "    </tr>\n",
       "    <tr>\n",
       "      <th>mean</th>\n",
       "      <td>59.517241</td>\n",
       "      <td>2.115245e+06</td>\n",
       "    </tr>\n",
       "    <tr>\n",
       "      <th>std</th>\n",
       "      <td>15.433596</td>\n",
       "      <td>5.017578e+06</td>\n",
       "    </tr>\n",
       "    <tr>\n",
       "      <th>min</th>\n",
       "      <td>7.000000</td>\n",
       "      <td>1.600000e+01</td>\n",
       "    </tr>\n",
       "    <tr>\n",
       "      <th>25%</th>\n",
       "      <td>49.000000</td>\n",
       "      <td>9.926800e+04</td>\n",
       "    </tr>\n",
       "    <tr>\n",
       "      <th>50%</th>\n",
       "      <td>60.000000</td>\n",
       "      <td>3.715550e+05</td>\n",
       "    </tr>\n",
       "    <tr>\n",
       "      <th>75%</th>\n",
       "      <td>72.000000</td>\n",
       "      <td>1.176699e+06</td>\n",
       "    </tr>\n",
       "    <tr>\n",
       "      <th>max</th>\n",
       "      <td>92.000000</td>\n",
       "      <td>3.716527e+07</td>\n",
       "    </tr>\n",
       "  </tbody>\n",
       "</table>\n",
       "</div>"
      ],
      "text/plain": [
       "       popularity     followers\n",
       "count  145.000000  1.450000e+02\n",
       "mean    59.517241  2.115245e+06\n",
       "std     15.433596  5.017578e+06\n",
       "min      7.000000  1.600000e+01\n",
       "25%     49.000000  9.926800e+04\n",
       "50%     60.000000  3.715550e+05\n",
       "75%     72.000000  1.176699e+06\n",
       "max     92.000000  3.716527e+07"
      ]
     },
     "execution_count": 448,
     "metadata": {},
     "output_type": "execute_result"
    }
   ],
   "source": [
    "df.describe()"
   ]
  },
  {
   "cell_type": "markdown",
   "id": "b2e356d1",
   "metadata": {},
   "source": [
    "This lineup has an **average popularity of 59.52%**."
   ]
  },
  {
   "cell_type": "markdown",
   "id": "1d98a95c",
   "metadata": {},
   "source": [
    "#### Based on this article by [pudding.cool](https://pudding.cool/2023/10/genre/), the top 10 Spotify genres (ranked by streams) in 2023 were:\n",
    "\n",
    "1. pop\n",
    "\n",
    "2. rap\n",
    "\n",
    "3. rock\n",
    "\n",
    "4. urbano latino\n",
    "\n",
    "5. hip hop\n",
    "\n",
    "6. trap latino\n",
    "\n",
    "7. reggaeton\n",
    "\n",
    "8. filmi\n",
    "\n",
    "9. dance pop\n",
    "\n",
    "10. latin pop\n",
    "\n",
    "***How many artists on the lineup fall into these genres?***"
   ]
  },
  {
   "cell_type": "code",
   "execution_count": 449,
   "id": "a614facc",
   "metadata": {},
   "outputs": [],
   "source": [
    "top_spotify_genres = [\"pop\", \"rap\", \"rock\", \"urbano latino\", \"hip hop\", \n",
    "                      \"trap latino\", \"reggaeton\", \"filmi\", \"dance pop\", \"latin pop\"]"
   ]
  },
  {
   "cell_type": "code",
   "execution_count": null,
   "id": "9d7dd7dd",
   "metadata": {},
   "outputs": [],
   "source": [
    "# find artists on the lineup with genres in the top 10\n",
    "\n",
    "pop_artists = pd.DataFrame()\n",
    "\n",
    "for i in range(len(df)): # iterate through dataframe\n",
    "    \n",
    "    for j in range(len(df[\"genres\"][i])): # iterate through genres list for each artist\n",
    "        \n",
    "        df[\"genres\"][i] = tuple(df[\"genres\"][i])\n",
    "        \n",
    "        if df[\"genres\"][i][j] in top_spotify_genres:\n",
    "            \n",
    "            pop_artists = pop_artists.append(df.loc[i],ignore_index=True)"
   ]
  },
  {
   "cell_type": "code",
   "execution_count": 451,
   "id": "f0492e39",
   "metadata": {},
   "outputs": [
    {
     "data": {
      "text/html": [
       "<div>\n",
       "<style scoped>\n",
       "    .dataframe tbody tr th:only-of-type {\n",
       "        vertical-align: middle;\n",
       "    }\n",
       "\n",
       "    .dataframe tbody tr th {\n",
       "        vertical-align: top;\n",
       "    }\n",
       "\n",
       "    .dataframe thead th {\n",
       "        text-align: right;\n",
       "    }\n",
       "</style>\n",
       "<table border=\"1\" class=\"dataframe\">\n",
       "  <thead>\n",
       "    <tr style=\"text-align: right;\">\n",
       "      <th></th>\n",
       "      <th>name</th>\n",
       "      <th>genres</th>\n",
       "      <th>popularity</th>\n",
       "      <th>followers</th>\n",
       "    </tr>\n",
       "  </thead>\n",
       "  <tbody>\n",
       "    <tr>\n",
       "      <th>0</th>\n",
       "      <td>Bebe Rexha</td>\n",
       "      <td>(dance pop, pop)</td>\n",
       "      <td>80.0</td>\n",
       "      <td>8850459.0</td>\n",
       "    </tr>\n",
       "    <tr>\n",
       "      <th>1</th>\n",
       "      <td>Bizarrap</td>\n",
       "      <td>(argentine hip hop, pop venezolano, trap argen...</td>\n",
       "      <td>84.0</td>\n",
       "      <td>14189802.0</td>\n",
       "    </tr>\n",
       "    <tr>\n",
       "      <th>2</th>\n",
       "      <td>Blur</td>\n",
       "      <td>(alternative rock, britpop, madchester, perman...</td>\n",
       "      <td>69.0</td>\n",
       "      <td>3190926.0</td>\n",
       "    </tr>\n",
       "    <tr>\n",
       "      <th>3</th>\n",
       "      <td>Deftones</td>\n",
       "      <td>(alternative metal, nu metal, rap metal, rock,...</td>\n",
       "      <td>78.0</td>\n",
       "      <td>4946809.0</td>\n",
       "    </tr>\n",
       "    <tr>\n",
       "      <th>4</th>\n",
       "      <td>DJ Snake</td>\n",
       "      <td>(edm, electronic trap, pop, pop dance)</td>\n",
       "      <td>78.0</td>\n",
       "      <td>8624963.0</td>\n",
       "    </tr>\n",
       "    <tr>\n",
       "      <th>5</th>\n",
       "      <td>J Balvin</td>\n",
       "      <td>(reggaeton, reggaeton colombiano, trap latino,...</td>\n",
       "      <td>85.0</td>\n",
       "      <td>37165272.0</td>\n",
       "    </tr>\n",
       "    <tr>\n",
       "      <th>6</th>\n",
       "      <td>Lana Del Rey</td>\n",
       "      <td>(art pop, pop)</td>\n",
       "      <td>90.0</td>\n",
       "      <td>32070018.0</td>\n",
       "    </tr>\n",
       "    <tr>\n",
       "      <th>7</th>\n",
       "      <td>Lil Uzi Vert</td>\n",
       "      <td>(hip hop, melodic rap, philly rap, rage rap, rap)</td>\n",
       "      <td>85.0</td>\n",
       "      <td>16620343.0</td>\n",
       "    </tr>\n",
       "    <tr>\n",
       "      <th>8</th>\n",
       "      <td>Lil Yachty</td>\n",
       "      <td>(atl hip hop, melodic rap, rap, trap)</td>\n",
       "      <td>79.0</td>\n",
       "      <td>9628915.0</td>\n",
       "    </tr>\n",
       "    <tr>\n",
       "      <th>9</th>\n",
       "      <td>NAV</td>\n",
       "      <td>(canadian hip hop, canadian trap, melodic rap,...</td>\n",
       "      <td>73.0</td>\n",
       "      <td>3432047.0</td>\n",
       "    </tr>\n",
       "    <tr>\n",
       "      <th>10</th>\n",
       "      <td>No Doubt</td>\n",
       "      <td>(dance pop, dance rock, permanent wave, pop ro...</td>\n",
       "      <td>67.0</td>\n",
       "      <td>2686273.0</td>\n",
       "    </tr>\n",
       "    <tr>\n",
       "      <th>11</th>\n",
       "      <td>Sabrina Carpenter</td>\n",
       "      <td>(pop,)</td>\n",
       "      <td>81.0</td>\n",
       "      <td>7196827.0</td>\n",
       "    </tr>\n",
       "    <tr>\n",
       "      <th>12</th>\n",
       "      <td>Sid Sriram</td>\n",
       "      <td>(filmi,)</td>\n",
       "      <td>75.0</td>\n",
       "      <td>14487541.0</td>\n",
       "    </tr>\n",
       "    <tr>\n",
       "      <th>13</th>\n",
       "      <td>Tinashe</td>\n",
       "      <td>(alternative r&amp;b, dance pop, metropopolis, pop...</td>\n",
       "      <td>66.0</td>\n",
       "      <td>2676702.0</td>\n",
       "    </tr>\n",
       "    <tr>\n",
       "      <th>14</th>\n",
       "      <td>Tyler, The Creator</td>\n",
       "      <td>(hip hop, rap)</td>\n",
       "      <td>84.0</td>\n",
       "      <td>13987546.0</td>\n",
       "    </tr>\n",
       "    <tr>\n",
       "      <th>15</th>\n",
       "      <td>Young Miko</td>\n",
       "      <td>(trap latino, urbano latino)</td>\n",
       "      <td>83.0</td>\n",
       "      <td>2256899.0</td>\n",
       "    </tr>\n",
       "  </tbody>\n",
       "</table>\n",
       "</div>"
      ],
      "text/plain": [
       "                  name                                             genres  \\\n",
       "0           Bebe Rexha                                   (dance pop, pop)   \n",
       "1             Bizarrap  (argentine hip hop, pop venezolano, trap argen...   \n",
       "2                 Blur  (alternative rock, britpop, madchester, perman...   \n",
       "3             Deftones  (alternative metal, nu metal, rap metal, rock,...   \n",
       "4             DJ Snake             (edm, electronic trap, pop, pop dance)   \n",
       "5             J Balvin  (reggaeton, reggaeton colombiano, trap latino,...   \n",
       "6         Lana Del Rey                                     (art pop, pop)   \n",
       "7         Lil Uzi Vert  (hip hop, melodic rap, philly rap, rage rap, rap)   \n",
       "8           Lil Yachty              (atl hip hop, melodic rap, rap, trap)   \n",
       "9                  NAV  (canadian hip hop, canadian trap, melodic rap,...   \n",
       "10            No Doubt  (dance pop, dance rock, permanent wave, pop ro...   \n",
       "11   Sabrina Carpenter                                             (pop,)   \n",
       "12          Sid Sriram                                           (filmi,)   \n",
       "13             Tinashe  (alternative r&b, dance pop, metropopolis, pop...   \n",
       "14  Tyler, The Creator                                     (hip hop, rap)   \n",
       "15          Young Miko                       (trap latino, urbano latino)   \n",
       "\n",
       "    popularity   followers  \n",
       "0         80.0   8850459.0  \n",
       "1         84.0  14189802.0  \n",
       "2         69.0   3190926.0  \n",
       "3         78.0   4946809.0  \n",
       "4         78.0   8624963.0  \n",
       "5         85.0  37165272.0  \n",
       "6         90.0  32070018.0  \n",
       "7         85.0  16620343.0  \n",
       "8         79.0   9628915.0  \n",
       "9         73.0   3432047.0  \n",
       "10        67.0   2686273.0  \n",
       "11        81.0   7196827.0  \n",
       "12        75.0  14487541.0  \n",
       "13        66.0   2676702.0  \n",
       "14        84.0  13987546.0  \n",
       "15        83.0   2256899.0  "
      ]
     },
     "execution_count": 451,
     "metadata": {},
     "output_type": "execute_result"
    }
   ],
   "source": [
    "pop_artists.drop_duplicates(inplace=True)\n",
    "pop_artists = pop_artists.reset_index(drop=True)\n",
    "pop_artists"
   ]
  },
  {
   "cell_type": "code",
   "execution_count": 452,
   "id": "51a94f4a",
   "metadata": {},
   "outputs": [
    {
     "name": "stdout",
     "output_type": "stream",
     "text": [
      "There are 16 artists on the lineup who are classified into Spotify's top 10 genres. That is 11.03% of the lineup.\n"
     ]
    }
   ],
   "source": [
    "print(f\"There are {len(pop_artists)} artists on the lineup who are classified into Spotify's top 10 genres. That is {np.round(len(pop_artists)/len(df)*100,2)}% of the lineup.\")"
   ]
  },
  {
   "cell_type": "code",
   "execution_count": 453,
   "id": "f6d83bc2",
   "metadata": {
    "scrolled": false
   },
   "outputs": [
    {
     "data": {
      "application/vnd.plotly.v1+json": {
       "config": {
        "plotlyServerURL": "https://plot.ly"
       },
       "data": [
        {
         "alignmentgroup": "True",
         "hovertemplate": "genres=('dance pop', 'pop')<br>name=%{x}<br>followers=%{y}<extra></extra>",
         "legendgroup": "('dance pop', 'pop')",
         "marker": {
          "color": "#636efa",
          "pattern": {
           "shape": ""
          }
         },
         "name": "('dance pop', 'pop')",
         "offsetgroup": "('dance pop', 'pop')",
         "orientation": "v",
         "showlegend": true,
         "textposition": "auto",
         "type": "bar",
         "x": [
          "Bebe Rexha"
         ],
         "xaxis": "x",
         "y": [
          8850459
         ],
         "yaxis": "y"
        },
        {
         "alignmentgroup": "True",
         "hovertemplate": "genres=('argentine hip hop', 'pop venezolano', 'trap argentino', 'trap latino', 'urbano latino')<br>name=%{x}<br>followers=%{y}<extra></extra>",
         "legendgroup": "('argentine hip hop', 'pop venezolano', 'trap argentino', 'trap latino', 'urbano latino')",
         "marker": {
          "color": "#EF553B",
          "pattern": {
           "shape": ""
          }
         },
         "name": "('argentine hip hop', 'pop venezolano', 'trap argentino', 'trap latino', 'urbano latino')",
         "offsetgroup": "('argentine hip hop', 'pop venezolano', 'trap argentino', 'trap latino', 'urbano latino')",
         "orientation": "v",
         "showlegend": true,
         "textposition": "auto",
         "type": "bar",
         "x": [
          "Bizarrap"
         ],
         "xaxis": "x",
         "y": [
          14189802
         ],
         "yaxis": "y"
        },
        {
         "alignmentgroup": "True",
         "hovertemplate": "genres=('alternative rock', 'britpop', 'madchester', 'permanent wave', 'rock')<br>name=%{x}<br>followers=%{y}<extra></extra>",
         "legendgroup": "('alternative rock', 'britpop', 'madchester', 'permanent wave', 'rock')",
         "marker": {
          "color": "#00cc96",
          "pattern": {
           "shape": ""
          }
         },
         "name": "('alternative rock', 'britpop', 'madchester', 'permanent wave', 'rock')",
         "offsetgroup": "('alternative rock', 'britpop', 'madchester', 'permanent wave', 'rock')",
         "orientation": "v",
         "showlegend": true,
         "textposition": "auto",
         "type": "bar",
         "x": [
          "Blur"
         ],
         "xaxis": "x",
         "y": [
          3190926
         ],
         "yaxis": "y"
        },
        {
         "alignmentgroup": "True",
         "hovertemplate": "genres=('alternative metal', 'nu metal', 'rap metal', 'rock', 'sacramento indie')<br>name=%{x}<br>followers=%{y}<extra></extra>",
         "legendgroup": "('alternative metal', 'nu metal', 'rap metal', 'rock', 'sacramento indie')",
         "marker": {
          "color": "#ab63fa",
          "pattern": {
           "shape": ""
          }
         },
         "name": "('alternative metal', 'nu metal', 'rap metal', 'rock', 'sacramento indie')",
         "offsetgroup": "('alternative metal', 'nu metal', 'rap metal', 'rock', 'sacramento indie')",
         "orientation": "v",
         "showlegend": true,
         "textposition": "auto",
         "type": "bar",
         "x": [
          "Deftones"
         ],
         "xaxis": "x",
         "y": [
          4946809
         ],
         "yaxis": "y"
        },
        {
         "alignmentgroup": "True",
         "hovertemplate": "genres=('edm', 'electronic trap', 'pop', 'pop dance')<br>name=%{x}<br>followers=%{y}<extra></extra>",
         "legendgroup": "('edm', 'electronic trap', 'pop', 'pop dance')",
         "marker": {
          "color": "#FFA15A",
          "pattern": {
           "shape": ""
          }
         },
         "name": "('edm', 'electronic trap', 'pop', 'pop dance')",
         "offsetgroup": "('edm', 'electronic trap', 'pop', 'pop dance')",
         "orientation": "v",
         "showlegend": true,
         "textposition": "auto",
         "type": "bar",
         "x": [
          "DJ Snake"
         ],
         "xaxis": "x",
         "y": [
          8624963
         ],
         "yaxis": "y"
        },
        {
         "alignmentgroup": "True",
         "hovertemplate": "genres=('reggaeton', 'reggaeton colombiano', 'trap latino', 'urbano latino')<br>name=%{x}<br>followers=%{y}<extra></extra>",
         "legendgroup": "('reggaeton', 'reggaeton colombiano', 'trap latino', 'urbano latino')",
         "marker": {
          "color": "#19d3f3",
          "pattern": {
           "shape": ""
          }
         },
         "name": "('reggaeton', 'reggaeton colombiano', 'trap latino', 'urbano latino')",
         "offsetgroup": "('reggaeton', 'reggaeton colombiano', 'trap latino', 'urbano latino')",
         "orientation": "v",
         "showlegend": true,
         "textposition": "auto",
         "type": "bar",
         "x": [
          "J Balvin"
         ],
         "xaxis": "x",
         "y": [
          37165272
         ],
         "yaxis": "y"
        },
        {
         "alignmentgroup": "True",
         "hovertemplate": "genres=('art pop', 'pop')<br>name=%{x}<br>followers=%{y}<extra></extra>",
         "legendgroup": "('art pop', 'pop')",
         "marker": {
          "color": "#FF6692",
          "pattern": {
           "shape": ""
          }
         },
         "name": "('art pop', 'pop')",
         "offsetgroup": "('art pop', 'pop')",
         "orientation": "v",
         "showlegend": true,
         "textposition": "auto",
         "type": "bar",
         "x": [
          "Lana Del Rey"
         ],
         "xaxis": "x",
         "y": [
          32070018
         ],
         "yaxis": "y"
        },
        {
         "alignmentgroup": "True",
         "hovertemplate": "genres=('hip hop', 'melodic rap', 'philly rap', 'rage rap', 'rap')<br>name=%{x}<br>followers=%{y}<extra></extra>",
         "legendgroup": "('hip hop', 'melodic rap', 'philly rap', 'rage rap', 'rap')",
         "marker": {
          "color": "#B6E880",
          "pattern": {
           "shape": ""
          }
         },
         "name": "('hip hop', 'melodic rap', 'philly rap', 'rage rap', 'rap')",
         "offsetgroup": "('hip hop', 'melodic rap', 'philly rap', 'rage rap', 'rap')",
         "orientation": "v",
         "showlegend": true,
         "textposition": "auto",
         "type": "bar",
         "x": [
          "Lil Uzi Vert"
         ],
         "xaxis": "x",
         "y": [
          16620343
         ],
         "yaxis": "y"
        },
        {
         "alignmentgroup": "True",
         "hovertemplate": "genres=('atl hip hop', 'melodic rap', 'rap', 'trap')<br>name=%{x}<br>followers=%{y}<extra></extra>",
         "legendgroup": "('atl hip hop', 'melodic rap', 'rap', 'trap')",
         "marker": {
          "color": "#FF97FF",
          "pattern": {
           "shape": ""
          }
         },
         "name": "('atl hip hop', 'melodic rap', 'rap', 'trap')",
         "offsetgroup": "('atl hip hop', 'melodic rap', 'rap', 'trap')",
         "orientation": "v",
         "showlegend": true,
         "textposition": "auto",
         "type": "bar",
         "x": [
          "Lil Yachty"
         ],
         "xaxis": "x",
         "y": [
          9628915
         ],
         "yaxis": "y"
        },
        {
         "alignmentgroup": "True",
         "hovertemplate": "genres=('canadian hip hop', 'canadian trap', 'melodic rap', 'rap', 'trap')<br>name=%{x}<br>followers=%{y}<extra></extra>",
         "legendgroup": "('canadian hip hop', 'canadian trap', 'melodic rap', 'rap', 'trap')",
         "marker": {
          "color": "#FECB52",
          "pattern": {
           "shape": ""
          }
         },
         "name": "('canadian hip hop', 'canadian trap', 'melodic rap', 'rap', 'trap')",
         "offsetgroup": "('canadian hip hop', 'canadian trap', 'melodic rap', 'rap', 'trap')",
         "orientation": "v",
         "showlegend": true,
         "textposition": "auto",
         "type": "bar",
         "x": [
          "NAV"
         ],
         "xaxis": "x",
         "y": [
          3432047
         ],
         "yaxis": "y"
        },
        {
         "alignmentgroup": "True",
         "hovertemplate": "genres=('dance pop', 'dance rock', 'permanent wave', 'pop rock', 'rock')<br>name=%{x}<br>followers=%{y}<extra></extra>",
         "legendgroup": "('dance pop', 'dance rock', 'permanent wave', 'pop rock', 'rock')",
         "marker": {
          "color": "#636efa",
          "pattern": {
           "shape": ""
          }
         },
         "name": "('dance pop', 'dance rock', 'permanent wave', 'pop rock', 'rock')",
         "offsetgroup": "('dance pop', 'dance rock', 'permanent wave', 'pop rock', 'rock')",
         "orientation": "v",
         "showlegend": true,
         "textposition": "auto",
         "type": "bar",
         "x": [
          "No Doubt"
         ],
         "xaxis": "x",
         "y": [
          2686273
         ],
         "yaxis": "y"
        },
        {
         "alignmentgroup": "True",
         "hovertemplate": "genres=('pop',)<br>name=%{x}<br>followers=%{y}<extra></extra>",
         "legendgroup": "('pop',)",
         "marker": {
          "color": "#EF553B",
          "pattern": {
           "shape": ""
          }
         },
         "name": "('pop',)",
         "offsetgroup": "('pop',)",
         "orientation": "v",
         "showlegend": true,
         "textposition": "auto",
         "type": "bar",
         "x": [
          "Sabrina Carpenter"
         ],
         "xaxis": "x",
         "y": [
          7196827
         ],
         "yaxis": "y"
        },
        {
         "alignmentgroup": "True",
         "hovertemplate": "genres=('filmi',)<br>name=%{x}<br>followers=%{y}<extra></extra>",
         "legendgroup": "('filmi',)",
         "marker": {
          "color": "#00cc96",
          "pattern": {
           "shape": ""
          }
         },
         "name": "('filmi',)",
         "offsetgroup": "('filmi',)",
         "orientation": "v",
         "showlegend": true,
         "textposition": "auto",
         "type": "bar",
         "x": [
          "Sid Sriram"
         ],
         "xaxis": "x",
         "y": [
          14487541
         ],
         "yaxis": "y"
        },
        {
         "alignmentgroup": "True",
         "hovertemplate": "genres=('alternative r&b', 'dance pop', 'metropopolis', 'pop', 'r&b', 'urban contemporary')<br>name=%{x}<br>followers=%{y}<extra></extra>",
         "legendgroup": "('alternative r&b', 'dance pop', 'metropopolis', 'pop', 'r&b', 'urban contemporary')",
         "marker": {
          "color": "#ab63fa",
          "pattern": {
           "shape": ""
          }
         },
         "name": "('alternative r&b', 'dance pop', 'metropopolis', 'pop', 'r&b', 'urban contemporary')",
         "offsetgroup": "('alternative r&b', 'dance pop', 'metropopolis', 'pop', 'r&b', 'urban contemporary')",
         "orientation": "v",
         "showlegend": true,
         "textposition": "auto",
         "type": "bar",
         "x": [
          "Tinashe"
         ],
         "xaxis": "x",
         "y": [
          2676702
         ],
         "yaxis": "y"
        },
        {
         "alignmentgroup": "True",
         "hovertemplate": "genres=('hip hop', 'rap')<br>name=%{x}<br>followers=%{y}<extra></extra>",
         "legendgroup": "('hip hop', 'rap')",
         "marker": {
          "color": "#FFA15A",
          "pattern": {
           "shape": ""
          }
         },
         "name": "('hip hop', 'rap')",
         "offsetgroup": "('hip hop', 'rap')",
         "orientation": "v",
         "showlegend": true,
         "textposition": "auto",
         "type": "bar",
         "x": [
          "Tyler, The Creator"
         ],
         "xaxis": "x",
         "y": [
          13987546
         ],
         "yaxis": "y"
        },
        {
         "alignmentgroup": "True",
         "hovertemplate": "genres=('trap latino', 'urbano latino')<br>name=%{x}<br>followers=%{y}<extra></extra>",
         "legendgroup": "('trap latino', 'urbano latino')",
         "marker": {
          "color": "#19d3f3",
          "pattern": {
           "shape": ""
          }
         },
         "name": "('trap latino', 'urbano latino')",
         "offsetgroup": "('trap latino', 'urbano latino')",
         "orientation": "v",
         "showlegend": true,
         "textposition": "auto",
         "type": "bar",
         "x": [
          "Young Miko"
         ],
         "xaxis": "x",
         "y": [
          2256899
         ],
         "yaxis": "y"
        }
       ],
       "layout": {
        "barmode": "relative",
        "height": 600,
        "legend": {
         "title": {
          "text": "genres"
         },
         "tracegroupgap": 0
        },
        "template": {
         "data": {
          "bar": [
           {
            "error_x": {
             "color": "#2a3f5f"
            },
            "error_y": {
             "color": "#2a3f5f"
            },
            "marker": {
             "line": {
              "color": "#E5ECF6",
              "width": 0.5
             },
             "pattern": {
              "fillmode": "overlay",
              "size": 10,
              "solidity": 0.2
             }
            },
            "type": "bar"
           }
          ],
          "barpolar": [
           {
            "marker": {
             "line": {
              "color": "#E5ECF6",
              "width": 0.5
             },
             "pattern": {
              "fillmode": "overlay",
              "size": 10,
              "solidity": 0.2
             }
            },
            "type": "barpolar"
           }
          ],
          "carpet": [
           {
            "aaxis": {
             "endlinecolor": "#2a3f5f",
             "gridcolor": "white",
             "linecolor": "white",
             "minorgridcolor": "white",
             "startlinecolor": "#2a3f5f"
            },
            "baxis": {
             "endlinecolor": "#2a3f5f",
             "gridcolor": "white",
             "linecolor": "white",
             "minorgridcolor": "white",
             "startlinecolor": "#2a3f5f"
            },
            "type": "carpet"
           }
          ],
          "choropleth": [
           {
            "colorbar": {
             "outlinewidth": 0,
             "ticks": ""
            },
            "type": "choropleth"
           }
          ],
          "contour": [
           {
            "colorbar": {
             "outlinewidth": 0,
             "ticks": ""
            },
            "colorscale": [
             [
              0,
              "#0d0887"
             ],
             [
              0.1111111111111111,
              "#46039f"
             ],
             [
              0.2222222222222222,
              "#7201a8"
             ],
             [
              0.3333333333333333,
              "#9c179e"
             ],
             [
              0.4444444444444444,
              "#bd3786"
             ],
             [
              0.5555555555555556,
              "#d8576b"
             ],
             [
              0.6666666666666666,
              "#ed7953"
             ],
             [
              0.7777777777777778,
              "#fb9f3a"
             ],
             [
              0.8888888888888888,
              "#fdca26"
             ],
             [
              1,
              "#f0f921"
             ]
            ],
            "type": "contour"
           }
          ],
          "contourcarpet": [
           {
            "colorbar": {
             "outlinewidth": 0,
             "ticks": ""
            },
            "type": "contourcarpet"
           }
          ],
          "heatmap": [
           {
            "colorbar": {
             "outlinewidth": 0,
             "ticks": ""
            },
            "colorscale": [
             [
              0,
              "#0d0887"
             ],
             [
              0.1111111111111111,
              "#46039f"
             ],
             [
              0.2222222222222222,
              "#7201a8"
             ],
             [
              0.3333333333333333,
              "#9c179e"
             ],
             [
              0.4444444444444444,
              "#bd3786"
             ],
             [
              0.5555555555555556,
              "#d8576b"
             ],
             [
              0.6666666666666666,
              "#ed7953"
             ],
             [
              0.7777777777777778,
              "#fb9f3a"
             ],
             [
              0.8888888888888888,
              "#fdca26"
             ],
             [
              1,
              "#f0f921"
             ]
            ],
            "type": "heatmap"
           }
          ],
          "heatmapgl": [
           {
            "colorbar": {
             "outlinewidth": 0,
             "ticks": ""
            },
            "colorscale": [
             [
              0,
              "#0d0887"
             ],
             [
              0.1111111111111111,
              "#46039f"
             ],
             [
              0.2222222222222222,
              "#7201a8"
             ],
             [
              0.3333333333333333,
              "#9c179e"
             ],
             [
              0.4444444444444444,
              "#bd3786"
             ],
             [
              0.5555555555555556,
              "#d8576b"
             ],
             [
              0.6666666666666666,
              "#ed7953"
             ],
             [
              0.7777777777777778,
              "#fb9f3a"
             ],
             [
              0.8888888888888888,
              "#fdca26"
             ],
             [
              1,
              "#f0f921"
             ]
            ],
            "type": "heatmapgl"
           }
          ],
          "histogram": [
           {
            "marker": {
             "pattern": {
              "fillmode": "overlay",
              "size": 10,
              "solidity": 0.2
             }
            },
            "type": "histogram"
           }
          ],
          "histogram2d": [
           {
            "colorbar": {
             "outlinewidth": 0,
             "ticks": ""
            },
            "colorscale": [
             [
              0,
              "#0d0887"
             ],
             [
              0.1111111111111111,
              "#46039f"
             ],
             [
              0.2222222222222222,
              "#7201a8"
             ],
             [
              0.3333333333333333,
              "#9c179e"
             ],
             [
              0.4444444444444444,
              "#bd3786"
             ],
             [
              0.5555555555555556,
              "#d8576b"
             ],
             [
              0.6666666666666666,
              "#ed7953"
             ],
             [
              0.7777777777777778,
              "#fb9f3a"
             ],
             [
              0.8888888888888888,
              "#fdca26"
             ],
             [
              1,
              "#f0f921"
             ]
            ],
            "type": "histogram2d"
           }
          ],
          "histogram2dcontour": [
           {
            "colorbar": {
             "outlinewidth": 0,
             "ticks": ""
            },
            "colorscale": [
             [
              0,
              "#0d0887"
             ],
             [
              0.1111111111111111,
              "#46039f"
             ],
             [
              0.2222222222222222,
              "#7201a8"
             ],
             [
              0.3333333333333333,
              "#9c179e"
             ],
             [
              0.4444444444444444,
              "#bd3786"
             ],
             [
              0.5555555555555556,
              "#d8576b"
             ],
             [
              0.6666666666666666,
              "#ed7953"
             ],
             [
              0.7777777777777778,
              "#fb9f3a"
             ],
             [
              0.8888888888888888,
              "#fdca26"
             ],
             [
              1,
              "#f0f921"
             ]
            ],
            "type": "histogram2dcontour"
           }
          ],
          "mesh3d": [
           {
            "colorbar": {
             "outlinewidth": 0,
             "ticks": ""
            },
            "type": "mesh3d"
           }
          ],
          "parcoords": [
           {
            "line": {
             "colorbar": {
              "outlinewidth": 0,
              "ticks": ""
             }
            },
            "type": "parcoords"
           }
          ],
          "pie": [
           {
            "automargin": true,
            "type": "pie"
           }
          ],
          "scatter": [
           {
            "fillpattern": {
             "fillmode": "overlay",
             "size": 10,
             "solidity": 0.2
            },
            "type": "scatter"
           }
          ],
          "scatter3d": [
           {
            "line": {
             "colorbar": {
              "outlinewidth": 0,
              "ticks": ""
             }
            },
            "marker": {
             "colorbar": {
              "outlinewidth": 0,
              "ticks": ""
             }
            },
            "type": "scatter3d"
           }
          ],
          "scattercarpet": [
           {
            "marker": {
             "colorbar": {
              "outlinewidth": 0,
              "ticks": ""
             }
            },
            "type": "scattercarpet"
           }
          ],
          "scattergeo": [
           {
            "marker": {
             "colorbar": {
              "outlinewidth": 0,
              "ticks": ""
             }
            },
            "type": "scattergeo"
           }
          ],
          "scattergl": [
           {
            "marker": {
             "colorbar": {
              "outlinewidth": 0,
              "ticks": ""
             }
            },
            "type": "scattergl"
           }
          ],
          "scattermapbox": [
           {
            "marker": {
             "colorbar": {
              "outlinewidth": 0,
              "ticks": ""
             }
            },
            "type": "scattermapbox"
           }
          ],
          "scatterpolar": [
           {
            "marker": {
             "colorbar": {
              "outlinewidth": 0,
              "ticks": ""
             }
            },
            "type": "scatterpolar"
           }
          ],
          "scatterpolargl": [
           {
            "marker": {
             "colorbar": {
              "outlinewidth": 0,
              "ticks": ""
             }
            },
            "type": "scatterpolargl"
           }
          ],
          "scatterternary": [
           {
            "marker": {
             "colorbar": {
              "outlinewidth": 0,
              "ticks": ""
             }
            },
            "type": "scatterternary"
           }
          ],
          "surface": [
           {
            "colorbar": {
             "outlinewidth": 0,
             "ticks": ""
            },
            "colorscale": [
             [
              0,
              "#0d0887"
             ],
             [
              0.1111111111111111,
              "#46039f"
             ],
             [
              0.2222222222222222,
              "#7201a8"
             ],
             [
              0.3333333333333333,
              "#9c179e"
             ],
             [
              0.4444444444444444,
              "#bd3786"
             ],
             [
              0.5555555555555556,
              "#d8576b"
             ],
             [
              0.6666666666666666,
              "#ed7953"
             ],
             [
              0.7777777777777778,
              "#fb9f3a"
             ],
             [
              0.8888888888888888,
              "#fdca26"
             ],
             [
              1,
              "#f0f921"
             ]
            ],
            "type": "surface"
           }
          ],
          "table": [
           {
            "cells": {
             "fill": {
              "color": "#EBF0F8"
             },
             "line": {
              "color": "white"
             }
            },
            "header": {
             "fill": {
              "color": "#C8D4E3"
             },
             "line": {
              "color": "white"
             }
            },
            "type": "table"
           }
          ]
         },
         "layout": {
          "annotationdefaults": {
           "arrowcolor": "#2a3f5f",
           "arrowhead": 0,
           "arrowwidth": 1
          },
          "autotypenumbers": "strict",
          "coloraxis": {
           "colorbar": {
            "outlinewidth": 0,
            "ticks": ""
           }
          },
          "colorscale": {
           "diverging": [
            [
             0,
             "#8e0152"
            ],
            [
             0.1,
             "#c51b7d"
            ],
            [
             0.2,
             "#de77ae"
            ],
            [
             0.3,
             "#f1b6da"
            ],
            [
             0.4,
             "#fde0ef"
            ],
            [
             0.5,
             "#f7f7f7"
            ],
            [
             0.6,
             "#e6f5d0"
            ],
            [
             0.7,
             "#b8e186"
            ],
            [
             0.8,
             "#7fbc41"
            ],
            [
             0.9,
             "#4d9221"
            ],
            [
             1,
             "#276419"
            ]
           ],
           "sequential": [
            [
             0,
             "#0d0887"
            ],
            [
             0.1111111111111111,
             "#46039f"
            ],
            [
             0.2222222222222222,
             "#7201a8"
            ],
            [
             0.3333333333333333,
             "#9c179e"
            ],
            [
             0.4444444444444444,
             "#bd3786"
            ],
            [
             0.5555555555555556,
             "#d8576b"
            ],
            [
             0.6666666666666666,
             "#ed7953"
            ],
            [
             0.7777777777777778,
             "#fb9f3a"
            ],
            [
             0.8888888888888888,
             "#fdca26"
            ],
            [
             1,
             "#f0f921"
            ]
           ],
           "sequentialminus": [
            [
             0,
             "#0d0887"
            ],
            [
             0.1111111111111111,
             "#46039f"
            ],
            [
             0.2222222222222222,
             "#7201a8"
            ],
            [
             0.3333333333333333,
             "#9c179e"
            ],
            [
             0.4444444444444444,
             "#bd3786"
            ],
            [
             0.5555555555555556,
             "#d8576b"
            ],
            [
             0.6666666666666666,
             "#ed7953"
            ],
            [
             0.7777777777777778,
             "#fb9f3a"
            ],
            [
             0.8888888888888888,
             "#fdca26"
            ],
            [
             1,
             "#f0f921"
            ]
           ]
          },
          "colorway": [
           "#636efa",
           "#EF553B",
           "#00cc96",
           "#ab63fa",
           "#FFA15A",
           "#19d3f3",
           "#FF6692",
           "#B6E880",
           "#FF97FF",
           "#FECB52"
          ],
          "font": {
           "color": "#2a3f5f"
          },
          "geo": {
           "bgcolor": "white",
           "lakecolor": "white",
           "landcolor": "#E5ECF6",
           "showlakes": true,
           "showland": true,
           "subunitcolor": "white"
          },
          "hoverlabel": {
           "align": "left"
          },
          "hovermode": "closest",
          "mapbox": {
           "style": "light"
          },
          "paper_bgcolor": "white",
          "plot_bgcolor": "#E5ECF6",
          "polar": {
           "angularaxis": {
            "gridcolor": "white",
            "linecolor": "white",
            "ticks": ""
           },
           "bgcolor": "#E5ECF6",
           "radialaxis": {
            "gridcolor": "white",
            "linecolor": "white",
            "ticks": ""
           }
          },
          "scene": {
           "xaxis": {
            "backgroundcolor": "#E5ECF6",
            "gridcolor": "white",
            "gridwidth": 2,
            "linecolor": "white",
            "showbackground": true,
            "ticks": "",
            "zerolinecolor": "white"
           },
           "yaxis": {
            "backgroundcolor": "#E5ECF6",
            "gridcolor": "white",
            "gridwidth": 2,
            "linecolor": "white",
            "showbackground": true,
            "ticks": "",
            "zerolinecolor": "white"
           },
           "zaxis": {
            "backgroundcolor": "#E5ECF6",
            "gridcolor": "white",
            "gridwidth": 2,
            "linecolor": "white",
            "showbackground": true,
            "ticks": "",
            "zerolinecolor": "white"
           }
          },
          "shapedefaults": {
           "line": {
            "color": "#2a3f5f"
           }
          },
          "ternary": {
           "aaxis": {
            "gridcolor": "white",
            "linecolor": "white",
            "ticks": ""
           },
           "baxis": {
            "gridcolor": "white",
            "linecolor": "white",
            "ticks": ""
           },
           "bgcolor": "#E5ECF6",
           "caxis": {
            "gridcolor": "white",
            "linecolor": "white",
            "ticks": ""
           }
          },
          "title": {
           "x": 0.05
          },
          "xaxis": {
           "automargin": true,
           "gridcolor": "white",
           "linecolor": "white",
           "ticks": "",
           "title": {
            "standoff": 15
           },
           "zerolinecolor": "white",
           "zerolinewidth": 2
          },
          "yaxis": {
           "automargin": true,
           "gridcolor": "white",
           "linecolor": "white",
           "ticks": "",
           "title": {
            "standoff": 15
           },
           "zerolinecolor": "white",
           "zerolinewidth": 2
          }
         }
        },
        "title": {
         "text": "Popular Artists by Genre"
        },
        "width": 1200,
        "xaxis": {
         "anchor": "y",
         "domain": [
          0,
          1
         ],
         "title": {
          "text": "name"
         }
        },
        "yaxis": {
         "anchor": "x",
         "domain": [
          0,
          1
         ],
         "title": {
          "text": "followers"
         }
        }
       }
      },
      "text/html": [
       "<div>                            <div id=\"103307ef-aaaf-43a7-9056-d000adb93d0e\" class=\"plotly-graph-div\" style=\"height:600px; width:1200px;\"></div>            <script type=\"text/javascript\">                require([\"plotly\"], function(Plotly) {                    window.PLOTLYENV=window.PLOTLYENV || {};                                    if (document.getElementById(\"103307ef-aaaf-43a7-9056-d000adb93d0e\")) {                    Plotly.newPlot(                        \"103307ef-aaaf-43a7-9056-d000adb93d0e\",                        [{\"alignmentgroup\":\"True\",\"hovertemplate\":\"genres=('dance pop', 'pop')<br>name=%{x}<br>followers=%{y}<extra></extra>\",\"legendgroup\":\"('dance pop', 'pop')\",\"marker\":{\"color\":\"#636efa\",\"pattern\":{\"shape\":\"\"}},\"name\":\"('dance pop', 'pop')\",\"offsetgroup\":\"('dance pop', 'pop')\",\"orientation\":\"v\",\"showlegend\":true,\"textposition\":\"auto\",\"x\":[\"Bebe Rexha\"],\"xaxis\":\"x\",\"y\":[8850459.0],\"yaxis\":\"y\",\"type\":\"bar\"},{\"alignmentgroup\":\"True\",\"hovertemplate\":\"genres=('argentine hip hop', 'pop venezolano', 'trap argentino', 'trap latino', 'urbano latino')<br>name=%{x}<br>followers=%{y}<extra></extra>\",\"legendgroup\":\"('argentine hip hop', 'pop venezolano', 'trap argentino', 'trap latino', 'urbano latino')\",\"marker\":{\"color\":\"#EF553B\",\"pattern\":{\"shape\":\"\"}},\"name\":\"('argentine hip hop', 'pop venezolano', 'trap argentino', 'trap latino', 'urbano latino')\",\"offsetgroup\":\"('argentine hip hop', 'pop venezolano', 'trap argentino', 'trap latino', 'urbano latino')\",\"orientation\":\"v\",\"showlegend\":true,\"textposition\":\"auto\",\"x\":[\"Bizarrap\"],\"xaxis\":\"x\",\"y\":[14189802.0],\"yaxis\":\"y\",\"type\":\"bar\"},{\"alignmentgroup\":\"True\",\"hovertemplate\":\"genres=('alternative rock', 'britpop', 'madchester', 'permanent wave', 'rock')<br>name=%{x}<br>followers=%{y}<extra></extra>\",\"legendgroup\":\"('alternative rock', 'britpop', 'madchester', 'permanent wave', 'rock')\",\"marker\":{\"color\":\"#00cc96\",\"pattern\":{\"shape\":\"\"}},\"name\":\"('alternative rock', 'britpop', 'madchester', 'permanent wave', 'rock')\",\"offsetgroup\":\"('alternative rock', 'britpop', 'madchester', 'permanent wave', 'rock')\",\"orientation\":\"v\",\"showlegend\":true,\"textposition\":\"auto\",\"x\":[\"Blur\"],\"xaxis\":\"x\",\"y\":[3190926.0],\"yaxis\":\"y\",\"type\":\"bar\"},{\"alignmentgroup\":\"True\",\"hovertemplate\":\"genres=('alternative metal', 'nu metal', 'rap metal', 'rock', 'sacramento indie')<br>name=%{x}<br>followers=%{y}<extra></extra>\",\"legendgroup\":\"('alternative metal', 'nu metal', 'rap metal', 'rock', 'sacramento indie')\",\"marker\":{\"color\":\"#ab63fa\",\"pattern\":{\"shape\":\"\"}},\"name\":\"('alternative metal', 'nu metal', 'rap metal', 'rock', 'sacramento indie')\",\"offsetgroup\":\"('alternative metal', 'nu metal', 'rap metal', 'rock', 'sacramento indie')\",\"orientation\":\"v\",\"showlegend\":true,\"textposition\":\"auto\",\"x\":[\"Deftones\"],\"xaxis\":\"x\",\"y\":[4946809.0],\"yaxis\":\"y\",\"type\":\"bar\"},{\"alignmentgroup\":\"True\",\"hovertemplate\":\"genres=('edm', 'electronic trap', 'pop', 'pop dance')<br>name=%{x}<br>followers=%{y}<extra></extra>\",\"legendgroup\":\"('edm', 'electronic trap', 'pop', 'pop dance')\",\"marker\":{\"color\":\"#FFA15A\",\"pattern\":{\"shape\":\"\"}},\"name\":\"('edm', 'electronic trap', 'pop', 'pop dance')\",\"offsetgroup\":\"('edm', 'electronic trap', 'pop', 'pop dance')\",\"orientation\":\"v\",\"showlegend\":true,\"textposition\":\"auto\",\"x\":[\"DJ Snake\"],\"xaxis\":\"x\",\"y\":[8624963.0],\"yaxis\":\"y\",\"type\":\"bar\"},{\"alignmentgroup\":\"True\",\"hovertemplate\":\"genres=('reggaeton', 'reggaeton colombiano', 'trap latino', 'urbano latino')<br>name=%{x}<br>followers=%{y}<extra></extra>\",\"legendgroup\":\"('reggaeton', 'reggaeton colombiano', 'trap latino', 'urbano latino')\",\"marker\":{\"color\":\"#19d3f3\",\"pattern\":{\"shape\":\"\"}},\"name\":\"('reggaeton', 'reggaeton colombiano', 'trap latino', 'urbano latino')\",\"offsetgroup\":\"('reggaeton', 'reggaeton colombiano', 'trap latino', 'urbano latino')\",\"orientation\":\"v\",\"showlegend\":true,\"textposition\":\"auto\",\"x\":[\"J Balvin\"],\"xaxis\":\"x\",\"y\":[37165272.0],\"yaxis\":\"y\",\"type\":\"bar\"},{\"alignmentgroup\":\"True\",\"hovertemplate\":\"genres=('art pop', 'pop')<br>name=%{x}<br>followers=%{y}<extra></extra>\",\"legendgroup\":\"('art pop', 'pop')\",\"marker\":{\"color\":\"#FF6692\",\"pattern\":{\"shape\":\"\"}},\"name\":\"('art pop', 'pop')\",\"offsetgroup\":\"('art pop', 'pop')\",\"orientation\":\"v\",\"showlegend\":true,\"textposition\":\"auto\",\"x\":[\"Lana Del Rey\"],\"xaxis\":\"x\",\"y\":[32070018.0],\"yaxis\":\"y\",\"type\":\"bar\"},{\"alignmentgroup\":\"True\",\"hovertemplate\":\"genres=('hip hop', 'melodic rap', 'philly rap', 'rage rap', 'rap')<br>name=%{x}<br>followers=%{y}<extra></extra>\",\"legendgroup\":\"('hip hop', 'melodic rap', 'philly rap', 'rage rap', 'rap')\",\"marker\":{\"color\":\"#B6E880\",\"pattern\":{\"shape\":\"\"}},\"name\":\"('hip hop', 'melodic rap', 'philly rap', 'rage rap', 'rap')\",\"offsetgroup\":\"('hip hop', 'melodic rap', 'philly rap', 'rage rap', 'rap')\",\"orientation\":\"v\",\"showlegend\":true,\"textposition\":\"auto\",\"x\":[\"Lil Uzi Vert\"],\"xaxis\":\"x\",\"y\":[16620343.0],\"yaxis\":\"y\",\"type\":\"bar\"},{\"alignmentgroup\":\"True\",\"hovertemplate\":\"genres=('atl hip hop', 'melodic rap', 'rap', 'trap')<br>name=%{x}<br>followers=%{y}<extra></extra>\",\"legendgroup\":\"('atl hip hop', 'melodic rap', 'rap', 'trap')\",\"marker\":{\"color\":\"#FF97FF\",\"pattern\":{\"shape\":\"\"}},\"name\":\"('atl hip hop', 'melodic rap', 'rap', 'trap')\",\"offsetgroup\":\"('atl hip hop', 'melodic rap', 'rap', 'trap')\",\"orientation\":\"v\",\"showlegend\":true,\"textposition\":\"auto\",\"x\":[\"Lil Yachty\"],\"xaxis\":\"x\",\"y\":[9628915.0],\"yaxis\":\"y\",\"type\":\"bar\"},{\"alignmentgroup\":\"True\",\"hovertemplate\":\"genres=('canadian hip hop', 'canadian trap', 'melodic rap', 'rap', 'trap')<br>name=%{x}<br>followers=%{y}<extra></extra>\",\"legendgroup\":\"('canadian hip hop', 'canadian trap', 'melodic rap', 'rap', 'trap')\",\"marker\":{\"color\":\"#FECB52\",\"pattern\":{\"shape\":\"\"}},\"name\":\"('canadian hip hop', 'canadian trap', 'melodic rap', 'rap', 'trap')\",\"offsetgroup\":\"('canadian hip hop', 'canadian trap', 'melodic rap', 'rap', 'trap')\",\"orientation\":\"v\",\"showlegend\":true,\"textposition\":\"auto\",\"x\":[\"NAV\"],\"xaxis\":\"x\",\"y\":[3432047.0],\"yaxis\":\"y\",\"type\":\"bar\"},{\"alignmentgroup\":\"True\",\"hovertemplate\":\"genres=('dance pop', 'dance rock', 'permanent wave', 'pop rock', 'rock')<br>name=%{x}<br>followers=%{y}<extra></extra>\",\"legendgroup\":\"('dance pop', 'dance rock', 'permanent wave', 'pop rock', 'rock')\",\"marker\":{\"color\":\"#636efa\",\"pattern\":{\"shape\":\"\"}},\"name\":\"('dance pop', 'dance rock', 'permanent wave', 'pop rock', 'rock')\",\"offsetgroup\":\"('dance pop', 'dance rock', 'permanent wave', 'pop rock', 'rock')\",\"orientation\":\"v\",\"showlegend\":true,\"textposition\":\"auto\",\"x\":[\"No Doubt\"],\"xaxis\":\"x\",\"y\":[2686273.0],\"yaxis\":\"y\",\"type\":\"bar\"},{\"alignmentgroup\":\"True\",\"hovertemplate\":\"genres=('pop',)<br>name=%{x}<br>followers=%{y}<extra></extra>\",\"legendgroup\":\"('pop',)\",\"marker\":{\"color\":\"#EF553B\",\"pattern\":{\"shape\":\"\"}},\"name\":\"('pop',)\",\"offsetgroup\":\"('pop',)\",\"orientation\":\"v\",\"showlegend\":true,\"textposition\":\"auto\",\"x\":[\"Sabrina Carpenter\"],\"xaxis\":\"x\",\"y\":[7196827.0],\"yaxis\":\"y\",\"type\":\"bar\"},{\"alignmentgroup\":\"True\",\"hovertemplate\":\"genres=('filmi',)<br>name=%{x}<br>followers=%{y}<extra></extra>\",\"legendgroup\":\"('filmi',)\",\"marker\":{\"color\":\"#00cc96\",\"pattern\":{\"shape\":\"\"}},\"name\":\"('filmi',)\",\"offsetgroup\":\"('filmi',)\",\"orientation\":\"v\",\"showlegend\":true,\"textposition\":\"auto\",\"x\":[\"Sid Sriram\"],\"xaxis\":\"x\",\"y\":[14487541.0],\"yaxis\":\"y\",\"type\":\"bar\"},{\"alignmentgroup\":\"True\",\"hovertemplate\":\"genres=('alternative r&b', 'dance pop', 'metropopolis', 'pop', 'r&b', 'urban contemporary')<br>name=%{x}<br>followers=%{y}<extra></extra>\",\"legendgroup\":\"('alternative r&b', 'dance pop', 'metropopolis', 'pop', 'r&b', 'urban contemporary')\",\"marker\":{\"color\":\"#ab63fa\",\"pattern\":{\"shape\":\"\"}},\"name\":\"('alternative r&b', 'dance pop', 'metropopolis', 'pop', 'r&b', 'urban contemporary')\",\"offsetgroup\":\"('alternative r&b', 'dance pop', 'metropopolis', 'pop', 'r&b', 'urban contemporary')\",\"orientation\":\"v\",\"showlegend\":true,\"textposition\":\"auto\",\"x\":[\"Tinashe\"],\"xaxis\":\"x\",\"y\":[2676702.0],\"yaxis\":\"y\",\"type\":\"bar\"},{\"alignmentgroup\":\"True\",\"hovertemplate\":\"genres=('hip hop', 'rap')<br>name=%{x}<br>followers=%{y}<extra></extra>\",\"legendgroup\":\"('hip hop', 'rap')\",\"marker\":{\"color\":\"#FFA15A\",\"pattern\":{\"shape\":\"\"}},\"name\":\"('hip hop', 'rap')\",\"offsetgroup\":\"('hip hop', 'rap')\",\"orientation\":\"v\",\"showlegend\":true,\"textposition\":\"auto\",\"x\":[\"Tyler, The Creator\"],\"xaxis\":\"x\",\"y\":[13987546.0],\"yaxis\":\"y\",\"type\":\"bar\"},{\"alignmentgroup\":\"True\",\"hovertemplate\":\"genres=('trap latino', 'urbano latino')<br>name=%{x}<br>followers=%{y}<extra></extra>\",\"legendgroup\":\"('trap latino', 'urbano latino')\",\"marker\":{\"color\":\"#19d3f3\",\"pattern\":{\"shape\":\"\"}},\"name\":\"('trap latino', 'urbano latino')\",\"offsetgroup\":\"('trap latino', 'urbano latino')\",\"orientation\":\"v\",\"showlegend\":true,\"textposition\":\"auto\",\"x\":[\"Young Miko\"],\"xaxis\":\"x\",\"y\":[2256899.0],\"yaxis\":\"y\",\"type\":\"bar\"}],                        {\"template\":{\"data\":{\"histogram2dcontour\":[{\"type\":\"histogram2dcontour\",\"colorbar\":{\"outlinewidth\":0,\"ticks\":\"\"},\"colorscale\":[[0.0,\"#0d0887\"],[0.1111111111111111,\"#46039f\"],[0.2222222222222222,\"#7201a8\"],[0.3333333333333333,\"#9c179e\"],[0.4444444444444444,\"#bd3786\"],[0.5555555555555556,\"#d8576b\"],[0.6666666666666666,\"#ed7953\"],[0.7777777777777778,\"#fb9f3a\"],[0.8888888888888888,\"#fdca26\"],[1.0,\"#f0f921\"]]}],\"choropleth\":[{\"type\":\"choropleth\",\"colorbar\":{\"outlinewidth\":0,\"ticks\":\"\"}}],\"histogram2d\":[{\"type\":\"histogram2d\",\"colorbar\":{\"outlinewidth\":0,\"ticks\":\"\"},\"colorscale\":[[0.0,\"#0d0887\"],[0.1111111111111111,\"#46039f\"],[0.2222222222222222,\"#7201a8\"],[0.3333333333333333,\"#9c179e\"],[0.4444444444444444,\"#bd3786\"],[0.5555555555555556,\"#d8576b\"],[0.6666666666666666,\"#ed7953\"],[0.7777777777777778,\"#fb9f3a\"],[0.8888888888888888,\"#fdca26\"],[1.0,\"#f0f921\"]]}],\"heatmap\":[{\"type\":\"heatmap\",\"colorbar\":{\"outlinewidth\":0,\"ticks\":\"\"},\"colorscale\":[[0.0,\"#0d0887\"],[0.1111111111111111,\"#46039f\"],[0.2222222222222222,\"#7201a8\"],[0.3333333333333333,\"#9c179e\"],[0.4444444444444444,\"#bd3786\"],[0.5555555555555556,\"#d8576b\"],[0.6666666666666666,\"#ed7953\"],[0.7777777777777778,\"#fb9f3a\"],[0.8888888888888888,\"#fdca26\"],[1.0,\"#f0f921\"]]}],\"heatmapgl\":[{\"type\":\"heatmapgl\",\"colorbar\":{\"outlinewidth\":0,\"ticks\":\"\"},\"colorscale\":[[0.0,\"#0d0887\"],[0.1111111111111111,\"#46039f\"],[0.2222222222222222,\"#7201a8\"],[0.3333333333333333,\"#9c179e\"],[0.4444444444444444,\"#bd3786\"],[0.5555555555555556,\"#d8576b\"],[0.6666666666666666,\"#ed7953\"],[0.7777777777777778,\"#fb9f3a\"],[0.8888888888888888,\"#fdca26\"],[1.0,\"#f0f921\"]]}],\"contourcarpet\":[{\"type\":\"contourcarpet\",\"colorbar\":{\"outlinewidth\":0,\"ticks\":\"\"}}],\"contour\":[{\"type\":\"contour\",\"colorbar\":{\"outlinewidth\":0,\"ticks\":\"\"},\"colorscale\":[[0.0,\"#0d0887\"],[0.1111111111111111,\"#46039f\"],[0.2222222222222222,\"#7201a8\"],[0.3333333333333333,\"#9c179e\"],[0.4444444444444444,\"#bd3786\"],[0.5555555555555556,\"#d8576b\"],[0.6666666666666666,\"#ed7953\"],[0.7777777777777778,\"#fb9f3a\"],[0.8888888888888888,\"#fdca26\"],[1.0,\"#f0f921\"]]}],\"surface\":[{\"type\":\"surface\",\"colorbar\":{\"outlinewidth\":0,\"ticks\":\"\"},\"colorscale\":[[0.0,\"#0d0887\"],[0.1111111111111111,\"#46039f\"],[0.2222222222222222,\"#7201a8\"],[0.3333333333333333,\"#9c179e\"],[0.4444444444444444,\"#bd3786\"],[0.5555555555555556,\"#d8576b\"],[0.6666666666666666,\"#ed7953\"],[0.7777777777777778,\"#fb9f3a\"],[0.8888888888888888,\"#fdca26\"],[1.0,\"#f0f921\"]]}],\"mesh3d\":[{\"type\":\"mesh3d\",\"colorbar\":{\"outlinewidth\":0,\"ticks\":\"\"}}],\"scatter\":[{\"fillpattern\":{\"fillmode\":\"overlay\",\"size\":10,\"solidity\":0.2},\"type\":\"scatter\"}],\"parcoords\":[{\"type\":\"parcoords\",\"line\":{\"colorbar\":{\"outlinewidth\":0,\"ticks\":\"\"}}}],\"scatterpolargl\":[{\"type\":\"scatterpolargl\",\"marker\":{\"colorbar\":{\"outlinewidth\":0,\"ticks\":\"\"}}}],\"bar\":[{\"error_x\":{\"color\":\"#2a3f5f\"},\"error_y\":{\"color\":\"#2a3f5f\"},\"marker\":{\"line\":{\"color\":\"#E5ECF6\",\"width\":0.5},\"pattern\":{\"fillmode\":\"overlay\",\"size\":10,\"solidity\":0.2}},\"type\":\"bar\"}],\"scattergeo\":[{\"type\":\"scattergeo\",\"marker\":{\"colorbar\":{\"outlinewidth\":0,\"ticks\":\"\"}}}],\"scatterpolar\":[{\"type\":\"scatterpolar\",\"marker\":{\"colorbar\":{\"outlinewidth\":0,\"ticks\":\"\"}}}],\"histogram\":[{\"marker\":{\"pattern\":{\"fillmode\":\"overlay\",\"size\":10,\"solidity\":0.2}},\"type\":\"histogram\"}],\"scattergl\":[{\"type\":\"scattergl\",\"marker\":{\"colorbar\":{\"outlinewidth\":0,\"ticks\":\"\"}}}],\"scatter3d\":[{\"type\":\"scatter3d\",\"line\":{\"colorbar\":{\"outlinewidth\":0,\"ticks\":\"\"}},\"marker\":{\"colorbar\":{\"outlinewidth\":0,\"ticks\":\"\"}}}],\"scattermapbox\":[{\"type\":\"scattermapbox\",\"marker\":{\"colorbar\":{\"outlinewidth\":0,\"ticks\":\"\"}}}],\"scatterternary\":[{\"type\":\"scatterternary\",\"marker\":{\"colorbar\":{\"outlinewidth\":0,\"ticks\":\"\"}}}],\"scattercarpet\":[{\"type\":\"scattercarpet\",\"marker\":{\"colorbar\":{\"outlinewidth\":0,\"ticks\":\"\"}}}],\"carpet\":[{\"aaxis\":{\"endlinecolor\":\"#2a3f5f\",\"gridcolor\":\"white\",\"linecolor\":\"white\",\"minorgridcolor\":\"white\",\"startlinecolor\":\"#2a3f5f\"},\"baxis\":{\"endlinecolor\":\"#2a3f5f\",\"gridcolor\":\"white\",\"linecolor\":\"white\",\"minorgridcolor\":\"white\",\"startlinecolor\":\"#2a3f5f\"},\"type\":\"carpet\"}],\"table\":[{\"cells\":{\"fill\":{\"color\":\"#EBF0F8\"},\"line\":{\"color\":\"white\"}},\"header\":{\"fill\":{\"color\":\"#C8D4E3\"},\"line\":{\"color\":\"white\"}},\"type\":\"table\"}],\"barpolar\":[{\"marker\":{\"line\":{\"color\":\"#E5ECF6\",\"width\":0.5},\"pattern\":{\"fillmode\":\"overlay\",\"size\":10,\"solidity\":0.2}},\"type\":\"barpolar\"}],\"pie\":[{\"automargin\":true,\"type\":\"pie\"}]},\"layout\":{\"autotypenumbers\":\"strict\",\"colorway\":[\"#636efa\",\"#EF553B\",\"#00cc96\",\"#ab63fa\",\"#FFA15A\",\"#19d3f3\",\"#FF6692\",\"#B6E880\",\"#FF97FF\",\"#FECB52\"],\"font\":{\"color\":\"#2a3f5f\"},\"hovermode\":\"closest\",\"hoverlabel\":{\"align\":\"left\"},\"paper_bgcolor\":\"white\",\"plot_bgcolor\":\"#E5ECF6\",\"polar\":{\"bgcolor\":\"#E5ECF6\",\"angularaxis\":{\"gridcolor\":\"white\",\"linecolor\":\"white\",\"ticks\":\"\"},\"radialaxis\":{\"gridcolor\":\"white\",\"linecolor\":\"white\",\"ticks\":\"\"}},\"ternary\":{\"bgcolor\":\"#E5ECF6\",\"aaxis\":{\"gridcolor\":\"white\",\"linecolor\":\"white\",\"ticks\":\"\"},\"baxis\":{\"gridcolor\":\"white\",\"linecolor\":\"white\",\"ticks\":\"\"},\"caxis\":{\"gridcolor\":\"white\",\"linecolor\":\"white\",\"ticks\":\"\"}},\"coloraxis\":{\"colorbar\":{\"outlinewidth\":0,\"ticks\":\"\"}},\"colorscale\":{\"sequential\":[[0.0,\"#0d0887\"],[0.1111111111111111,\"#46039f\"],[0.2222222222222222,\"#7201a8\"],[0.3333333333333333,\"#9c179e\"],[0.4444444444444444,\"#bd3786\"],[0.5555555555555556,\"#d8576b\"],[0.6666666666666666,\"#ed7953\"],[0.7777777777777778,\"#fb9f3a\"],[0.8888888888888888,\"#fdca26\"],[1.0,\"#f0f921\"]],\"sequentialminus\":[[0.0,\"#0d0887\"],[0.1111111111111111,\"#46039f\"],[0.2222222222222222,\"#7201a8\"],[0.3333333333333333,\"#9c179e\"],[0.4444444444444444,\"#bd3786\"],[0.5555555555555556,\"#d8576b\"],[0.6666666666666666,\"#ed7953\"],[0.7777777777777778,\"#fb9f3a\"],[0.8888888888888888,\"#fdca26\"],[1.0,\"#f0f921\"]],\"diverging\":[[0,\"#8e0152\"],[0.1,\"#c51b7d\"],[0.2,\"#de77ae\"],[0.3,\"#f1b6da\"],[0.4,\"#fde0ef\"],[0.5,\"#f7f7f7\"],[0.6,\"#e6f5d0\"],[0.7,\"#b8e186\"],[0.8,\"#7fbc41\"],[0.9,\"#4d9221\"],[1,\"#276419\"]]},\"xaxis\":{\"gridcolor\":\"white\",\"linecolor\":\"white\",\"ticks\":\"\",\"title\":{\"standoff\":15},\"zerolinecolor\":\"white\",\"automargin\":true,\"zerolinewidth\":2},\"yaxis\":{\"gridcolor\":\"white\",\"linecolor\":\"white\",\"ticks\":\"\",\"title\":{\"standoff\":15},\"zerolinecolor\":\"white\",\"automargin\":true,\"zerolinewidth\":2},\"scene\":{\"xaxis\":{\"backgroundcolor\":\"#E5ECF6\",\"gridcolor\":\"white\",\"linecolor\":\"white\",\"showbackground\":true,\"ticks\":\"\",\"zerolinecolor\":\"white\",\"gridwidth\":2},\"yaxis\":{\"backgroundcolor\":\"#E5ECF6\",\"gridcolor\":\"white\",\"linecolor\":\"white\",\"showbackground\":true,\"ticks\":\"\",\"zerolinecolor\":\"white\",\"gridwidth\":2},\"zaxis\":{\"backgroundcolor\":\"#E5ECF6\",\"gridcolor\":\"white\",\"linecolor\":\"white\",\"showbackground\":true,\"ticks\":\"\",\"zerolinecolor\":\"white\",\"gridwidth\":2}},\"shapedefaults\":{\"line\":{\"color\":\"#2a3f5f\"}},\"annotationdefaults\":{\"arrowcolor\":\"#2a3f5f\",\"arrowhead\":0,\"arrowwidth\":1},\"geo\":{\"bgcolor\":\"white\",\"landcolor\":\"#E5ECF6\",\"subunitcolor\":\"white\",\"showland\":true,\"showlakes\":true,\"lakecolor\":\"white\"},\"title\":{\"x\":0.05},\"mapbox\":{\"style\":\"light\"}}},\"xaxis\":{\"anchor\":\"y\",\"domain\":[0.0,1.0],\"title\":{\"text\":\"name\"}},\"yaxis\":{\"anchor\":\"x\",\"domain\":[0.0,1.0],\"title\":{\"text\":\"followers\"}},\"legend\":{\"title\":{\"text\":\"genres\"},\"tracegroupgap\":0},\"title\":{\"text\":\"Popular Artists by Genre\"},\"barmode\":\"relative\",\"height\":600,\"width\":1200},                        {\"responsive\": true}                    ).then(function(){\n",
       "                            \n",
       "var gd = document.getElementById('103307ef-aaaf-43a7-9056-d000adb93d0e');\n",
       "var x = new MutationObserver(function (mutations, observer) {{\n",
       "        var display = window.getComputedStyle(gd).display;\n",
       "        if (!display || display === 'none') {{\n",
       "            console.log([gd, 'removed!']);\n",
       "            Plotly.purge(gd);\n",
       "            observer.disconnect();\n",
       "        }}\n",
       "}});\n",
       "\n",
       "// Listen for the removal of the full notebook cells\n",
       "var notebookContainer = gd.closest('#notebook-container');\n",
       "if (notebookContainer) {{\n",
       "    x.observe(notebookContainer, {childList: true});\n",
       "}}\n",
       "\n",
       "// Listen for the clearing of the current output cell\n",
       "var outputEl = gd.closest('.output');\n",
       "if (outputEl) {{\n",
       "    x.observe(outputEl, {childList: true});\n",
       "}}\n",
       "\n",
       "                        })                };                });            </script>        </div>"
      ]
     },
     "metadata": {},
     "output_type": "display_data"
    }
   ],
   "source": [
    "# Visualize Artists\n",
    "fig = px.bar(pop_artists, \n",
    "             x = \"name\", \n",
    "             y = \"followers\", \n",
    "             title = \"Popular Artists by Genre\",\n",
    "             color = \"genres\",\n",
    "             width=1200, \n",
    "             height=600,\n",
    "             labels={\n",
    "                     \"genre\": \"genres\"\n",
    "                 })\n",
    "\n",
    "fig.show()"
   ]
  },
  {
   "cell_type": "markdown",
   "id": "8e8d5e7c",
   "metadata": {},
   "source": [
    "It is worth mentioning that genres like \"pop\" are huge and have several overlapping genres such as \"nigerian pop\", \"indie pop\", and \"japanese teen pop.\" Classifying music and artists into specific genres is complicated, so although only ~11% of this lineup falls into Spotify's top 10 genres, **it is likely that this percentage is larger in reality.**"
   ]
  },
  {
   "cell_type": "code",
   "execution_count": null,
   "id": "6fab9f12",
   "metadata": {},
   "outputs": [],
   "source": []
  }
 ],
 "metadata": {
  "kernelspec": {
   "display_name": "Python 3 (ipykernel)",
   "language": "python",
   "name": "python3"
  },
  "language_info": {
   "codemirror_mode": {
    "name": "ipython",
    "version": 3
   },
   "file_extension": ".py",
   "mimetype": "text/x-python",
   "name": "python",
   "nbconvert_exporter": "python",
   "pygments_lexer": "ipython3",
   "version": "3.9.7"
  }
 },
 "nbformat": 4,
 "nbformat_minor": 5
}
